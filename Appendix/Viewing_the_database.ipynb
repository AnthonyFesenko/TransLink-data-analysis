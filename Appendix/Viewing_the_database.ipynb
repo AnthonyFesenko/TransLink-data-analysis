{
 "cells": [
  {
   "cell_type": "code",
   "execution_count": 1,
   "metadata": {},
   "outputs": [],
   "source": [
    "import duckdb \n",
    "import pandas as pd\n",
    "import plotly.express as px"
   ]
  },
  {
   "cell_type": "code",
   "execution_count": 2,
   "metadata": {},
   "outputs": [],
   "source": [
    "db = duckdb.connect('transit.db')\n",
    "db.sql('')"
   ]
  },
  {
   "cell_type": "code",
   "execution_count": 3,
   "metadata": {},
   "outputs": [
    {
     "data": {
      "text/plain": [
       "┌────────────────────────────┐\n",
       "│            name            │\n",
       "│          varchar           │\n",
       "├────────────────────────────┤\n",
       "│ agency                     │\n",
       "│ calendar                   │\n",
       "│ calendar_dates             │\n",
       "│ direction_names_exceptions │\n",
       "│ directions                 │\n",
       "│ feed_info                  │\n",
       "│ route_names_exceptions     │\n",
       "│ routes                     │\n",
       "│ rt_alerts                  │\n",
       "│ rt_position                │\n",
       "│ rt_trip                    │\n",
       "│ shapes                     │\n",
       "│ signup_periods             │\n",
       "│ stop_order_exceptions      │\n",
       "│ stop_times                 │\n",
       "│ stops                      │\n",
       "│ transfers                  │\n",
       "│ trips                      │\n",
       "├────────────────────────────┤\n",
       "│          18 rows           │\n",
       "└────────────────────────────┘"
      ]
     },
     "execution_count": 3,
     "metadata": {},
     "output_type": "execute_result"
    }
   ],
   "source": [
    "db.sql(\"SHOW TABLES\")"
   ]
  },
  {
   "cell_type": "code",
   "execution_count": 6,
   "metadata": {},
   "outputs": [
    {
     "data": {
      "text/plain": [
       "┌──────────┬────────────┬───────────────────────┬──────────┬──────────────┬───────────┬─────────────┬───────────────────────┬────────────────┬─────────────────────┬─────────┬────────────┬───────────────┐\n",
       "│ trip_id  │ start_date │ schedule_relationship │ route_id │ direction_id │ latitude  │  longitude  │ current_stop_sequence │ current_status │      timestamp      │ stop_id │ vehicle_id │ vehicle_label │\n",
       "│ varchar  │    date    │         int32         │ varchar  │   varchar    │   float   │    float    │        varchar        │    varchar     │      timestamp      │ varchar │  varchar   │    varchar    │\n",
       "├──────────┼────────────┼───────────────────────┼──────────┼──────────────┼───────────┼─────────────┼───────────────────────┼────────────────┼─────────────────────┼─────────┼────────────┼───────────────┤\n",
       "│ 14121841 │ 2024-11-30 │                     0 │ 30055    │ 0            │ 49.286415 │  -123.14038 │ 1                     │ 2              │ 2024-12-01 02:02:40 │ 1       │ 19529      │ 19529         │\n",
       "│ 14000025 │ 2024-11-30 │                     0 │ 6616     │ 0            │ 49.277016 │  -123.12615 │ 9                     │ 2              │ 2024-12-01 02:03:58 │ 11      │ 2171       │ 2171          │\n",
       "│ 14000092 │ 2024-11-30 │                     0 │ 6616     │ 1            │ 49.277534 │  -123.12675 │ 7                     │ 2              │ 2024-12-01 02:03:57 │ 25      │ 2169       │ 2169          │\n",
       "│ 13998426 │ 2024-11-30 │                     0 │ 6613     │ 1            │ 49.284683 │  -123.11097 │ 1                     │ 2              │ 2024-12-01 02:03:13 │ 35      │ 2508       │ 2508          │\n",
       "│ 13998789 │ 2024-11-30 │                     0 │ 6614     │ 0            │ 49.284817 │  -123.11121 │ 31                    │ 2              │ 2024-12-01 02:03:27 │ 35      │ 2195       │ 2195          │\n",
       "│ 14010874 │ 2024-11-30 │                     0 │ 6637     │ 1            │ 49.284065 │    -123.108 │ 3                     │ 2              │ 2024-12-01 02:04:17 │ 38      │ 18358      │ 18358         │\n",
       "│ 14000018 │ 2024-11-30 │                     0 │ 6616     │ 0            │   49.2786 │  -123.12857 │ 8                     │ 2              │ 2024-12-01 02:03:26 │ 74      │ 2243       │ 2243          │\n",
       "│ 13997851 │ 2024-11-30 │                     0 │ 6612     │ 0            │ 49.279434 │  -123.12863 │ 25                    │ 2              │ 2024-12-01 02:03:03 │ 75      │ 21023      │ 21023         │\n",
       "│ 13999325 │ 2024-11-30 │                     0 │ 6615     │ 0            │  49.28595 │  -123.11685 │ 10                    │ 2              │ 2024-12-01 02:04:11 │ 76      │ 2164       │ 2164          │\n",
       "│ 14006058 │ 2024-11-30 │                     0 │ 6626     │ 0            │ 49.281067 │  -123.10757 │ 5                     │ 2              │ 2024-12-01 02:03:37 │ 80      │ 18301      │ 18301         │\n",
       "│    ·     │     ·      │                     · │  ·       │ ·            │     ·     │       ·     │ ·                     │ ·              │          ·          │ ·       │   ·        │   ·           │\n",
       "│    ·     │     ·      │                     · │  ·       │ ·            │     ·     │       ·     │ ·                     │ ·              │          ·          │ ·       │   ·        │   ·           │\n",
       "│    ·     │     ·      │                     · │  ·       │ ·            │     ·     │       ·     │ ·                     │ ·              │          ·          │ ·       │   ·        │   ·           │\n",
       "│ 14016248 │ 2024-11-30 │                     0 │ 32799    │ 1            │ 49.217884 │  -122.95216 │ 2                     │ 2              │ 2024-12-01 02:18:37 │ 2433    │ 18367      │ 18367         │\n",
       "│ 14014802 │ 2024-11-30 │                     0 │ 6645     │ 0            │  49.21905 │  -122.95037 │ 3                     │ 2              │ 2024-12-01 02:18:06 │ 2434    │ 24132      │ 24132         │\n",
       "│ 14018283 │ 2024-11-30 │                     0 │ 33292    │ 1            │ 49.217567 │  -122.95267 │ 3                     │ 2              │ 2024-12-01 02:18:14 │ 2434    │ 9411       │ 9411          │\n",
       "│ 14014913 │ 2024-11-30 │                     0 │ 6645     │ 1            │  49.22162 │   -122.9309 │ 12                    │ 2              │ 2024-12-01 02:18:27 │ 2467    │ 9420       │ 9420          │\n",
       "│ 14016263 │ 2024-11-30 │                     0 │ 32799    │ 1            │ 49.220867 │  -122.97565 │ 10                    │ 2              │ 2024-12-01 02:18:00 │ 2484    │ 9454       │ 9454          │\n",
       "│ 14018988 │ 2024-11-30 │                     0 │ 6657     │ 0            │   49.2241 │  -122.99997 │ 2                     │ 2              │ 2024-12-01 02:18:13 │ 2524    │ 9429       │ 9429          │\n",
       "│ 14124930 │ 2024-11-30 │                     0 │ 6636     │ 1            │ 49.221985 │ -122.997215 │ 2                     │ 2              │ 2024-12-01 02:17:47 │ 2524    │ 12025      │ 12025         │\n",
       "│ 14018996 │ 2024-11-30 │                     0 │ 6657     │ 0            │ 49.227383 │  -122.99416 │ 5                     │ 2              │ 2024-12-01 02:18:00 │ 2527    │ 9435       │ 9435          │\n",
       "│ 14018487 │ 2024-11-30 │                     0 │ 6652     │ 1            │  49.26175 │ -122.966484 │ 10                    │ 2              │ 2024-12-01 02:18:37 │ 2558    │ 21554      │ 21554         │\n",
       "│ 14019056 │ 2024-11-30 │                     0 │ 6657     │ 1            │   49.2616 │   -122.9571 │ 17                    │ 2              │ 2024-12-01 02:18:26 │ 2591    │ 9421       │ 9421          │\n",
       "├──────────┴────────────┴───────────────────────┴──────────┴──────────────┴───────────┴─────────────┴───────────────────────┴────────────────┴─────────────────────┴─────────┴────────────┴───────────────┤\n",
       "│ ? rows (>9999 rows, 20 shown)                                                                                                                                                                13 columns │\n",
       "└─────────────────────────────────────────────────────────────────────────────────────────────────────────────────────────────────────────────────────────────────────────────────────────────────────────┘"
      ]
     },
     "execution_count": 6,
     "metadata": {},
     "output_type": "execute_result"
    }
   ],
   "source": [
    "db.sql(\"SELECT * FROM rt_position\")"
   ]
  },
  {
   "cell_type": "code",
   "execution_count": 4,
   "metadata": {},
   "outputs": [
    {
     "name": "stdout",
     "output_type": "stream",
     "text": [
      "┌──────────┬──────────────┬──────────────┬───────────────────┬─────────────────────┐\n",
      "│ shape_id │ shape_pt_lat │ shape_pt_lon │ shape_pt_sequence │ shape_dist_traveled │\n",
      "│ varchar  │    double    │    double    │       int32       │       double        │\n",
      "├──────────┼──────────────┼──────────────┼───────────────────┼─────────────────────┤\n",
      "│ 4484     │    49.224743 │   -122.89178 │                 1 │                 0.0 │\n",
      "└──────────┴──────────────┴──────────────┴───────────────────┴─────────────────────┘\n",
      "\n"
     ]
    }
   ],
   "source": [
    "clean_queries = {\n",
    "    'rt_trip_1970': \"\"\"DELETE FROM rt_trip WHERE year(next_stop_arrival_time) == 1970\"\"\",\n",
    "    'rt_position_1970': \"\"\"DELETE FROM rt_position WHERE year(timestamp) = 1970\"\"\",\n",
    "    'rt_position_filter_max_latitude': \"\"\"DELETE FROM rt_position WHERE latitude < 49 \"\"\",\n",
    "    'rt_position_filter_min_latitude': \"\"\"DELETE FROM rt_position WHERE latitude > 49.5 \"\"\",\n",
    "    'rt_position_filter_max_longitude': \"\"\"DELETE FROM rt_position WHERE longitude < -123.5 \"\"\",\n",
    "    'rt_position_filter_min_longitude': \"\"\"DELETE FROM rt_position WHERE longitude > -122.3 \"\"\",\n",
    "}\n",
    "\n",
    "for query in clean_queries.values():\n",
    "    db.execute(query)\n",
    "    \n",
    "# Delete all 1970 dates in realtime trip and position data as they are originally null values\n",
    "#db.sql(\"\"\"DELETE FROM rt_trip WHERE year(next_stop_arrival_time) == 1970\"\"\")\n",
    "#db.sql(\"\"\"SELECT * FROM rt_trip WHERE year(next_stop_arrival_time) == 1970\"\"\").show() #for testing\n",
    "#db.sql(\"\"\"DELETE FROM rt_position WHERE year(timestamp) = 1970\"\"\") #for testing\n",
    "#remove null latitude and longitudes\n",
    "\n",
    "#db.sql(\"\"\"SELECT * FROM rt_position WHERE latitude < 49 \"\"\").show()\n",
    "#db.sql(\"\"\"SELECT * FROM rt_position WHERE latitude > 49.5 \"\"\").show()\n",
    "#db.sql(\"\"\"SELECT * FROM rt_position WHERE longitude < -123.5 \"\"\").show()\n",
    "#db.sql(\"\"\"SELECT * FROM rt_position WHERE longitude > -122.3 \"\"\").show()\n",
    "\n",
    "#db.sql(\"\"\"DELETE FROM rt_position WHERE longitude = 0.0 \"\"\")\n",
    "#db.sql(\"\"\"SELECT * FROM rt_position WHERE latitude = 0.0 \"\"\").show()\n",
    "db.sql(\"\"\"SELECT * FROM shapes WHERE shape_id = '4484' \"\"\").show()\n",
    "\n",
    "#db.sql(\"\"\"SELECT max(longitude) FROM rt_position\"\"\").show()\n",
    "\n",
    "\n",
    "#remove handy dart entries\n",
    "\n",
    "\n",
    "\n"
   ]
  },
  {
   "cell_type": "code",
   "execution_count": 11,
   "metadata": {},
   "outputs": [
    {
     "ename": "NameError",
     "evalue": "name 'df' is not defined",
     "output_type": "error",
     "traceback": [
      "\u001b[0;31m---------------------------------------------------------------------------\u001b[0m",
      "\u001b[0;31mNameError\u001b[0m                                 Traceback (most recent call last)",
      "Cell \u001b[0;32mIn[11], line 7\u001b[0m\n\u001b[1;32m      3\u001b[0m \u001b[38;5;28;01mimport\u001b[39;00m \u001b[38;5;21;01mmatplotlib\u001b[39;00m\u001b[38;5;21;01m.\u001b[39;00m\u001b[38;5;21;01mpyplot\u001b[39;00m \u001b[38;5;28;01mas\u001b[39;00m \u001b[38;5;21;01mplt\u001b[39;00m\n\u001b[1;32m      4\u001b[0m \u001b[38;5;28;01mfrom\u001b[39;00m \u001b[38;5;21;01mshapely\u001b[39;00m\u001b[38;5;21;01m.\u001b[39;00m\u001b[38;5;21;01mgeometry\u001b[39;00m \u001b[38;5;28;01mimport\u001b[39;00m Point\n\u001b[0;32m----> 7\u001b[0m plt\u001b[38;5;241m.\u001b[39mscatter(x\u001b[38;5;241m=\u001b[39m\u001b[43mdf\u001b[49m[\u001b[38;5;124m'\u001b[39m\u001b[38;5;124mLongitude\u001b[39m\u001b[38;5;124m'\u001b[39m], y\u001b[38;5;241m=\u001b[39mdf[\u001b[38;5;124m'\u001b[39m\u001b[38;5;124mLatitude\u001b[39m\u001b[38;5;124m'\u001b[39m])\n\u001b[1;32m      8\u001b[0m db\u001b[38;5;241m.\u001b[39msql(\u001b[38;5;124m\"\"\"\u001b[39m\u001b[38;5;124mSELECT * FROM rt_position WHERE longitude = 0.0 \u001b[39m\u001b[38;5;124m\"\"\"\u001b[39m)\u001b[38;5;241m.\u001b[39mshow()\n\u001b[1;32m      9\u001b[0m plt\u001b[38;5;241m.\u001b[39mshow()\n",
      "\u001b[0;31mNameError\u001b[0m: name 'df' is not defined"
     ]
    }
   ],
   "source": [
    "import geopandas as gpd\n",
    "import seaborn as sns\n",
    "import matplotlib.pyplot as plt\n",
    "from shapely.geometry import Point\n",
    "\n",
    "\n",
    "plt.scatter(x=df['Longitude'], y=df['Latitude'])\n",
    "db.sql(\"\"\"SELECT * FROM rt_position WHERE longitude = 0.0 \"\"\").show()\n",
    "plt.show()"
   ]
  },
  {
   "cell_type": "code",
   "execution_count": 12,
   "metadata": {},
   "outputs": [
    {
     "name": "stdout",
     "output_type": "stream",
     "text": [
      "┌──────────────┐\n",
      "│ count_star() │\n",
      "│    int64     │\n",
      "├──────────────┤\n",
      "│      1702801 │\n",
      "└──────────────┘\n",
      "\n"
     ]
    }
   ],
   "source": [
    "db.sql(\"SELECT count(*) FROM rt_trip \").show()"
   ]
  },
  {
   "cell_type": "code",
   "execution_count": 13,
   "metadata": {},
   "outputs": [
    {
     "name": "stdout",
     "output_type": "stream",
     "text": [
      "┌──────────┬────────────┬───────────────────────┬──────────┬──────────────┬────────────────────┬─────────────────────────┬────────────────────────┬───────────────────────────┬──────────────────────────┬──────────────┬─────────────────────────────────┬────────────┬───────────────┐\n",
      "│ trip_id  │ start_date │ schedule_relationship │ route_id │ direction_id │ next_stop_sequence │ next_stop_arrival_delay │ next_stop_arrival_time │ next_stop_departure_delay │ next_stop_departure_time │ next_stop_id │ next_stop_schedule_relationship │ vehicle_id │ vehicle_label │\n",
      "│ varchar  │    date    │         int32         │ varchar  │   varchar    │      varchar       │        interval         │       timestamp        │         interval          │        timestamp         │   varchar    │             varchar             │  varchar   │    varchar    │\n",
      "├──────────┼────────────┼───────────────────────┼──────────┼──────────────┼────────────────────┼─────────────────────────┼────────────────────────┼───────────────────────────┼──────────────────────────┼──────────────┼─────────────────────────────────┼────────────┼───────────────┤\n",
      "│ 13997801 │ 2024-11-30 │                     0 │ 6612     │ 0            │ 1                  │ 00:00:00                │ 2024-12-01 02:14:00    │ 00:00:00                  │ 2024-12-01 02:14:00      │ 646          │ 0                               │ 8151       │ 8151          │\n",
      "│ 13997840 │ 2024-11-30 │                     0 │ 6612     │ 0            │ 11                 │ -00:01:38               │ 2024-12-01 02:05:10    │ -00:01:38                 │ 2024-12-01 02:05:10      │ 69           │ 0                               │ 21002      │ 21002         │\n",
      "│ 13997851 │ 2024-11-30 │                     0 │ 6612     │ 0            │ 26                 │ -00:00:25               │ 2024-12-01 02:05:53    │ -00:00:25                 │ 2024-12-01 02:05:53      │ 29           │ 0                               │ 21023      │ 21023         │\n",
      "│ 13997852 │ 2024-11-30 │                     0 │ 6612     │ 0            │ 11                 │ -00:02:11               │ 2024-12-01 02:05:04    │ -00:02:11                 │ 2024-12-01 02:05:04      │ 1279         │ 0                               │ 8123       │ 8123          │\n",
      "│ 13997937 │ 2024-11-30 │                     0 │ 6612     │ 1            │ 13                 │ 00:03:27                │ 2024-12-01 02:05:49    │ 00:03:27                  │ 2024-12-01 02:05:49      │ 1379         │ 0                               │ 21019      │ 21019         │\n",
      "│ 13997938 │ 2024-11-30 │                     0 │ 6612     │ 1            │ 1                  │ 00:00:00                │ 2024-12-01 02:05:00    │ 00:00:00                  │ 2024-12-01 02:05:00      │ 1856         │ 0                               │ 8137       │ 8137          │\n",
      "│ 13997949 │ 2024-11-30 │                     0 │ 6612     │ 1            │ 4                  │ 00:06:29                │ 2024-12-01 02:05:32    │ 00:06:29                  │ 2024-12-01 02:05:32      │ 46           │ 0                               │ 21012      │ 21012         │\n",
      "│ 13998336 │ 2024-11-30 │                     0 │ 6613     │ 0            │ 1                  │ 00:00:00                │ 2024-12-01 02:10:00    │ 00:00:00                  │ 2024-12-01 02:10:00      │ 11251        │ 0                               │ 2570       │ 2570          │\n",
      "│ 13998337 │ 2024-11-30 │                     0 │ 6613     │ 0            │ 7                  │ 00:02:47                │ 2024-12-01 02:05:48    │ 00:02:47                  │ 2024-12-01 02:05:48      │ 147          │ 0                               │ 2540       │ 2540          │\n",
      "│ 13998338 │ 2024-11-30 │                     0 │ 6613     │ 0            │ 21                 │ 00:01:00                │ 2024-12-01 02:05:32    │ 00:01:00                  │ 2024-12-01 02:05:32      │ 170          │ 0                               │ 2552       │ 2552          │\n",
      "│    ·     │     ·      │                     · │  ·       │ ·            │ ·                  │    ·                    │          ·             │    ·                      │          ·               │  ·           │ ·                               │  ·         │  ·            │\n",
      "│    ·     │     ·      │                     · │  ·       │ ·            │ ·                  │    ·                    │          ·             │    ·                      │          ·               │  ·           │ ·                               │  ·         │  ·            │\n",
      "│    ·     │     ·      │                     · │  ·       │ ·            │ ·                  │    ·                    │          ·             │    ·                      │          ·               │  ·           │ ·                               │  ·         │  ·            │\n",
      "│ 13998337 │ 2024-11-30 │                     0 │ 6613     │ 0            │ 31                 │ 00:00:49                │ 2024-12-01 02:32:39    │ 00:00:49                  │ 2024-12-01 02:32:39      │ 181          │ 0                               │ 2540       │ 2540          │\n",
      "│ 13998425 │ 2024-11-30 │                     0 │ 6613     │ 1            │ 17                 │ 00:05:19                │ 2024-12-01 02:32:02    │ 00:05:19                  │ 2024-12-01 02:32:02      │ 246          │ 0                               │ 2513       │ 2513          │\n",
      "│ 13998426 │ 2024-11-30 │                     0 │ 6613     │ 1            │ 22                 │ 00:11:54                │ 2024-12-01 02:32:57    │ 00:11:54                  │ 2024-12-01 02:32:57      │ 251          │ 0                               │ 2508       │ 2508          │\n",
      "│ 13998427 │ 2024-11-30 │                     0 │ 6613     │ 1            │ 35                 │ 00:11:15                │ 2024-12-01 02:33:56    │ 00:11:15                  │ 2024-12-01 02:33:56      │ 2234         │ 0                               │ 2501       │ 2501          │\n",
      "│ 13998472 │ 2024-11-30 │                     0 │ 6613     │ 1            │ 11                 │ 00:00:59                │ 2024-12-01 02:32:16    │ 00:00:59                  │ 2024-12-01 02:32:16      │ 238          │ 0                               │ 2535       │ 2535          │\n",
      "│ 13998799 │ 2024-11-30 │                     0 │ 6614     │ 0            │ 10                 │ 00:00:11                │ 2024-12-01 02:32:47    │ 00:00:11                  │ 2024-12-01 02:32:47      │ 354          │ 0                               │ 2223       │ 2223          │\n",
      "│ 13998800 │ 2024-11-30 │                     0 │ 6614     │ 0            │ 1                  │ 00:00:00                │ 2024-12-01 02:37:00    │ 00:00:00                  │ 2024-12-01 02:37:00      │ 11794        │ 0                               │ 2143       │ 2143          │\n",
      "│ 13998920 │ 2024-11-30 │                     0 │ 6614     │ 1            │ 37                 │ 00:07:10                │ 2024-12-01 02:32:39    │ 00:07:10                  │ 2024-12-01 02:32:39      │ 593          │ 0                               │ 2157       │ 2157          │\n",
      "│ 13998922 │ 2024-11-30 │                     0 │ 6614     │ 1            │ 14                 │ 00:00:16                │ 2024-12-01 02:32:32    │ 00:00:16                  │ 2024-12-01 02:32:32      │ 518          │ 0                               │ 2180       │ 2180          │\n",
      "│ 13999355 │ 2024-11-30 │                     0 │ 6615     │ 0            │ 11                 │ -00:02:04               │ 2024-12-01 02:32:34    │ -00:02:04                 │ 2024-12-01 02:32:34      │ 77           │ 0                               │ 2169       │ 2169          │\n",
      "├──────────┴────────────┴───────────────────────┴──────────┴──────────────┴────────────────────┴─────────────────────────┴────────────────────────┴───────────────────────────┴──────────────────────────┴──────────────┴─────────────────────────────────┴────────────┴───────────────┤\n",
      "│ ? rows (>9999 rows, 20 shown)                                                                                                                                                                                                                                             14 columns │\n",
      "└──────────────────────────────────────────────────────────────────────────────────────────────────────────────────────────────────────────────────────────────────────────────────────────────────────────────────────────────────────────────────────────────────────────────────────┘\n",
      "\n"
     ]
    }
   ],
   "source": [
    "db.sql(\"SELECT * FROM rt_trip\").show()"
   ]
  },
  {
   "cell_type": "code",
   "execution_count": 15,
   "metadata": {},
   "outputs": [
    {
     "data": {
      "image/png": "[encoded data removed]",
      "text/plain": [
       "<Figure size 1200x600 with 1 Axes>"
      ]
     },
     "metadata": {},
     "output_type": "display_data"
    }
   ],
   "source": [
    "day_names = {\n",
    "    0: 'Monday',\n",
    "    1: 'Tuesday', \n",
    "    2: 'Wednesday',\n",
    "    3: 'Thursday',\n",
    "    4: 'Friday',\n",
    "    5: 'Saturday',\n",
    "    6: 'Sunday'\n",
    "}\n",
    "\n",
    "results = db.sql(\"\"\"SELECT\n",
    "            dayofweek(start_date) as day_of_week, \n",
    "            avg(EXTRACT(EPOCH FROM next_stop_arrival_delay)) as avg_delay_seconds,\n",
    "            next_stop_sequence,\n",
    "        FROM rt_trip\n",
    "\n",
    "        GROUP BY day_of_week,next_stop_sequence\n",
    "        ORDER BY day_of_week,next_stop_sequence\"\"\").df()\n",
    "\n",
    "results['day_name'] = results['day_of_week'].map(day_names)\n",
    "\n",
    "plt.figure(figsize=(12, 6))\n",
    "sns.lineplot(\n",
    "    data=results,\n",
    "    x=\"next_stop_sequence\", y=\"avg_delay_seconds\",\n",
    "    hue=\"day_name\", \n",
    ")\n",
    "plt.xticks(range(0, 90, 10))\n",
    "\n",
    "plt.show()\n"
   ]
  },
  {
   "cell_type": "code",
   "execution_count": 24,
   "metadata": {},
   "outputs": [
    {
     "name": "stdout",
     "output_type": "stream",
     "text": [
      "┌─────────────┬────────────────────┐\n",
      "│ day_of_week │ avg_delay_seconds  │\n",
      "│    int64    │       double       │\n",
      "├─────────────┼────────────────────┤\n",
      "│           0 │ 103.64855533345448 │\n",
      "│           1 │  58.79149610345123 │\n",
      "│           2 │ 146.49568133857557 │\n",
      "│           3 │ 134.22390488637802 │\n",
      "│           6 │  116.6080359676504 │\n",
      "└─────────────┴────────────────────┘\n",
      "\n"
     ]
    }
   ],
   "source": [
    "db.sql(\"\"\"SELECT \n",
    "        dayofweek(start_date) as day_of_week,\n",
    "        avg(EXTRACT(EPOCH FROM next_stop_arrival_delay)) as avg_delay_seconds\n",
    "        FROM rt_trip\n",
    "        GROUP BY dayofweek(start_date)\n",
    "        ORDER BY day_of_week\"\"\").show()"
   ]
  },
  {
   "cell_type": "code",
   "execution_count": 7,
   "metadata": {},
   "outputs": [
    {
     "data": {
      "image/png": "[encoded data removed]",
      "text/plain": [
       "<Figure size 1200x600 with 1 Axes>"
      ]
     },
     "metadata": {},
     "output_type": "display_data"
    }
   ],
   "source": [
    "#grouped by day of week and hour\n",
    "\n",
    "import seaborn as sns\n",
    "import matplotlib.pyplot as plt\n",
    "sns.set_theme()\n",
    "\n",
    "day_names = {\n",
    "    0: 'Monday',\n",
    "    1: 'Tuesday', \n",
    "    2: 'Wednesday',\n",
    "    3: 'Thursday',\n",
    "    4: 'Friday',\n",
    "    5: 'Saturday',\n",
    "    6: 'Sunday'\n",
    "}\n",
    "\n",
    "results = db.sql(\"\"\"SELECT \n",
    "            dayofweek(next_stop_arrival_time) as day_of_week,\n",
    "            hour(next_stop_arrival_time) as hour,\n",
    "            avg(EXTRACT(EPOCH FROM next_stop_arrival_delay)) as avg_delay_seconds,\n",
    "        FROM rt_trip\n",
    "        GROUP BY day_of_week, hour\n",
    "        ORDER BY day_of_week,hour\"\"\").df()\n",
    "\n",
    "results['day_name'] = results['day_of_week'].map(day_names)\n",
    "\n",
    "plt.figure(figsize=(12, 6))\n",
    "sns.lineplot(\n",
    "    data=results,\n",
    "    x=\"hour\", y=\"avg_delay_seconds\",\n",
    "    hue=\"day_name\", \n",
    ")\n",
    "plt.xticks(range(0, 24, 3))\n",
    "\n",
    "plt.show()\n",
    "\n"
   ]
  },
  {
   "cell_type": "code",
   "execution_count": 178,
   "metadata": {},
   "outputs": [
    {
     "name": "stdout",
     "output_type": "stream",
     "text": [
      "     route_id  hour  avg_delay_seconds\n",
      "0       30046    11       -1886.000000\n",
      "1       36799    12       -1510.000000\n",
      "2       38311    12       -1160.500000\n",
      "3       31821    12       -1114.000000\n",
      "4        6806    12       -1048.000000\n",
      "...       ...   ...                ...\n",
      "3952    11693     4        2250.455882\n",
      "3953             19        2307.655405\n",
      "3954              1        2358.918033\n",
      "3955              3        2374.304000\n",
      "3956     6743    17        2879.100000\n",
      "\n",
      "[3957 rows x 3 columns]\n"
     ]
    }
   ],
   "source": [
    "route_id_by_hour = db.sql(\"\"\"SELECT \n",
    "            route_id,\n",
    "            hour(next_stop_arrival_time) as hour,\n",
    "            avg(EXTRACT(EPOCH FROM next_stop_arrival_delay)) as avg_delay_seconds\n",
    "        FROM rt_trip\n",
    "        GROUP BY route_id, hour\n",
    "        ORDER BY avg_delay_seconds\"\"\").df()\n",
    "print(route_id_by_hour)\n",
    "\"\"\"\n",
    "plt.figure(figsize=(12, 6))\n",
    "sns.lineplot(\n",
    "    data=route_id_by_hour,\n",
    "    x=\"hour\", y=\"avg_delay_seconds\",\n",
    "    hue=\"route_id\", \n",
    ")\n",
    "plt.xticks(range(0, 24, 3))\n",
    "\n",
    "plt.show()\n",
    "\"\"\""
   ]
  },
  {
   "cell_type": "code",
   "execution_count": 6,
   "metadata": {},
   "outputs": [
    {
     "name": "stdout",
     "output_type": "stream",
     "text": [
      "Requirement already satisfied: dash in /Users/adriancrusius/Documents/CMPT353 Translink data analysis/.venv/lib/python3.12/site-packages (2.18.2)\n",
      "Requirement already satisfied: Flask<3.1,>=1.0.4 in /Users/adriancrusius/Documents/CMPT353 Translink data analysis/.venv/lib/python3.12/site-packages (from dash) (3.0.3)\n",
      "Requirement already satisfied: Werkzeug<3.1 in /Users/adriancrusius/Documents/CMPT353 Translink data analysis/.venv/lib/python3.12/site-packages (from dash) (3.0.6)\n",
      "Requirement already satisfied: plotly>=5.0.0 in /Users/adriancrusius/Documents/CMPT353 Translink data analysis/.venv/lib/python3.12/site-packages (from dash) (5.24.1)\n",
      "Requirement already satisfied: dash-html-components==2.0.0 in /Users/adriancrusius/Documents/CMPT353 Translink data analysis/.venv/lib/python3.12/site-packages (from dash) (2.0.0)\n",
      "Requirement already satisfied: dash-core-components==2.0.0 in /Users/adriancrusius/Documents/CMPT353 Translink data analysis/.venv/lib/python3.12/site-packages (from dash) (2.0.0)\n",
      "Requirement already satisfied: dash-table==5.0.0 in /Users/adriancrusius/Documents/CMPT353 Translink data analysis/.venv/lib/python3.12/site-packages (from dash) (5.0.0)\n",
      "Requirement already satisfied: importlib-metadata in /Users/adriancrusius/Documents/CMPT353 Translink data analysis/.venv/lib/python3.12/site-packages (from dash) (8.5.0)\n",
      "Requirement already satisfied: typing-extensions>=4.1.1 in /Users/adriancrusius/Documents/CMPT353 Translink data analysis/.venv/lib/python3.12/site-packages (from dash) (4.12.2)\n",
      "Requirement already satisfied: requests in /Users/adriancrusius/Documents/CMPT353 Translink data analysis/.venv/lib/python3.12/site-packages (from dash) (2.32.3)\n",
      "Requirement already satisfied: retrying in /Users/adriancrusius/Documents/CMPT353 Translink data analysis/.venv/lib/python3.12/site-packages (from dash) (1.3.4)\n",
      "Requirement already satisfied: nest-asyncio in /Users/adriancrusius/Documents/CMPT353 Translink data analysis/.venv/lib/python3.12/site-packages (from dash) (1.6.0)\n",
      "Requirement already satisfied: setuptools in /Users/adriancrusius/Documents/CMPT353 Translink data analysis/.venv/lib/python3.12/site-packages (from dash) (75.5.0)\n",
      "Requirement already satisfied: Jinja2>=3.1.2 in /Users/adriancrusius/Documents/CMPT353 Translink data analysis/.venv/lib/python3.12/site-packages (from Flask<3.1,>=1.0.4->dash) (3.1.4)\n",
      "Requirement already satisfied: itsdangerous>=2.1.2 in /Users/adriancrusius/Documents/CMPT353 Translink data analysis/.venv/lib/python3.12/site-packages (from Flask<3.1,>=1.0.4->dash) (2.2.0)\n",
      "Requirement already satisfied: click>=8.1.3 in /Users/adriancrusius/Documents/CMPT353 Translink data analysis/.venv/lib/python3.12/site-packages (from Flask<3.1,>=1.0.4->dash) (8.1.7)\n",
      "Requirement already satisfied: blinker>=1.6.2 in /Users/adriancrusius/Documents/CMPT353 Translink data analysis/.venv/lib/python3.12/site-packages (from Flask<3.1,>=1.0.4->dash) (1.9.0)\n",
      "Requirement already satisfied: tenacity>=6.2.0 in /Users/adriancrusius/Documents/CMPT353 Translink data analysis/.venv/lib/python3.12/site-packages (from plotly>=5.0.0->dash) (9.0.0)\n",
      "Requirement already satisfied: packaging in /Users/adriancrusius/Documents/CMPT353 Translink data analysis/.venv/lib/python3.12/site-packages (from plotly>=5.0.0->dash) (24.2)\n",
      "Requirement already satisfied: MarkupSafe>=2.1.1 in /Users/adriancrusius/Documents/CMPT353 Translink data analysis/.venv/lib/python3.12/site-packages (from Werkzeug<3.1->dash) (3.0.2)\n",
      "Requirement already satisfied: zipp>=3.20 in /Users/adriancrusius/Documents/CMPT353 Translink data analysis/.venv/lib/python3.12/site-packages (from importlib-metadata->dash) (3.21.0)\n",
      "Requirement already satisfied: charset-normalizer<4,>=2 in /Users/adriancrusius/Documents/CMPT353 Translink data analysis/.venv/lib/python3.12/site-packages (from requests->dash) (3.4.0)\n",
      "Requirement already satisfied: idna<4,>=2.5 in /Users/adriancrusius/Documents/CMPT353 Translink data analysis/.venv/lib/python3.12/site-packages (from requests->dash) (3.10)\n",
      "Requirement already satisfied: urllib3<3,>=1.21.1 in /Users/adriancrusius/Documents/CMPT353 Translink data analysis/.venv/lib/python3.12/site-packages (from requests->dash) (2.2.3)\n",
      "Requirement already satisfied: certifi>=2017.4.17 in /Users/adriancrusius/Documents/CMPT353 Translink data analysis/.venv/lib/python3.12/site-packages (from requests->dash) (2024.8.30)\n",
      "Requirement already satisfied: six>=1.7.0 in /Users/adriancrusius/Documents/CMPT353 Translink data analysis/.venv/lib/python3.12/site-packages (from retrying->dash) (1.16.0)\n",
      "Note: you may need to restart the kernel to use updated packages.\n"
     ]
    },
    {
     "data": {
      "application/vnd.plotly.v1+json": {
       "config": {
        "plotlyServerURL": "https://plot.ly"
       },
       "data": [
        {
         "hovertemplate": "route_short_name=R2<br>hour=%{x}<br>avg_delay_seconds=%{y}<extra></extra>",
         "legendgroup": "R2",
         "line": {
          "color": "#636efa",
          "dash": "solid"
         },
         "marker": {
          "symbol": "circle"
         },
         "mode": "lines",
         "name": "R2",
         "orientation": "v",
         "showlegend": true,
         "type": "scatter",
         "x": [
          0,
          1,
          2,
          3,
          4,
          5,
          6,
          7,
          8,
          9,
          10,
          12,
          13,
          14,
          15,
          16,
          17,
          18,
          19,
          20,
          21,
          22,
          23
         ],
         "xaxis": "x",
         "y": [
          31.10703363914373,
          255.55752212389382,
          196.28643216080403,
          37.22222222222222,
          -9.54054054054054,
          -101.82374100719424,
          -17.44140625,
          34.235537190082646,
          33.80694980694981,
          78.74251497005989,
          -31.458333333333332,
          -1160.5,
          -102.36220472440945,
          -37.475083056478404,
          -41.73765432098765,
          23.525073746312685,
          35.449367088607595,
          32.446886446886445,
          4.451127819548872,
          -1.5212355212355213,
          18.56201550387597,
          32.53136531365314,
          -31.854166666666668
         ],
         "yaxis": "y"
        },
        {
         "hovertemplate": "route_short_name=R1<br>hour=%{x}<br>avg_delay_seconds=%{y}<extra></extra>",
         "legendgroup": "R1",
         "line": {
          "color": "#EF553B",
          "dash": "solid"
         },
         "marker": {
          "symbol": "circle"
         },
         "mode": "lines",
         "name": "R1",
         "orientation": "v",
         "showlegend": true,
         "type": "scatter",
         "x": [
          0,
          1,
          2,
          3,
          4,
          5,
          6,
          7,
          8,
          9,
          12,
          13,
          14,
          15,
          16,
          17,
          18,
          19,
          20,
          21,
          22,
          23
         ],
         "xaxis": "x",
         "y": [
          41.38493723849373,
          83.18928571428572,
          19.895330112721417,
          14.0561797752809,
          5.220385674931129,
          18.589905362776026,
          7.6075949367088604,
          10.64375,
          13.179878048780488,
          52.904761904761905,
          -45,
          -17.082474226804123,
          9.764192139737991,
          5.288840262582057,
          0.9326923076923077,
          -0.3711340206185567,
          -21.401002506265666,
          -7.666666666666667,
          35.24731182795699,
          33.45685279187817,
          -5.338028169014085,
          25.620137299771166
         ],
         "yaxis": "y"
        },
        {
         "hovertemplate": "route_short_name=R6<br>hour=%{x}<br>avg_delay_seconds=%{y}<extra></extra>",
         "legendgroup": "R6",
         "line": {
          "color": "#00cc96",
          "dash": "solid"
         },
         "marker": {
          "symbol": "circle"
         },
         "mode": "lines",
         "name": "R6",
         "orientation": "v",
         "showlegend": true,
         "type": "scatter",
         "x": [
          0,
          1,
          2,
          3,
          4,
          5,
          6,
          7,
          8,
          9,
          12,
          13,
          14,
          15,
          16,
          17,
          18,
          19,
          20,
          21,
          22,
          23
         ],
         "xaxis": "x",
         "y": [
          52.26355421686747,
          54.731297709923666,
          69.22762148337596,
          49.32197614991482,
          46.86168224299065,
          39.86842105263158,
          44.644385026737964,
          42.40874035989717,
          45.876640419947506,
          32.93162393162393,
          -28.980392156862745,
          -16.750716332378225,
          34.01657458563536,
          16.978998384491113,
          15.559934318555008,
          28.005347593582886,
          26.817248459958932,
          51.825557809330626,
          20.385474860335197,
          -1.1263537906137184,
          -8.948148148148148,
          24.814070351758794
         ],
         "yaxis": "y"
        },
        {
         "hovertemplate": "route_short_name=R3<br>hour=%{x}<br>avg_delay_seconds=%{y}<extra></extra>",
         "legendgroup": "R3",
         "line": {
          "color": "#ab63fa",
          "dash": "solid"
         },
         "marker": {
          "symbol": "circle"
         },
         "mode": "lines",
         "name": "R3",
         "orientation": "v",
         "showlegend": true,
         "type": "scatter",
         "x": [
          0,
          1,
          2,
          3,
          4,
          5,
          6,
          7,
          8,
          13,
          14,
          15,
          16,
          17,
          18,
          19,
          20,
          21,
          22,
          23
         ],
         "xaxis": "x",
         "y": [
          53.13807531380753,
          166.9140625,
          95.45723684210526,
          -12.427272727272728,
          -22.977777777777778,
          -51.52488687782805,
          1.4770642201834863,
          -24.87443946188341,
          -98,
          12.426778242677825,
          18.141342756183747,
          21.72463768115942,
          43.974729241877256,
          7.506276150627615,
          -72.55555555555556,
          -26.048076923076923,
          -22.067307692307693,
          -7.89622641509434,
          -31.08968609865471,
          -30.730434782608697
         ],
         "yaxis": "y"
        },
        {
         "hovertemplate": "route_short_name=R5<br>hour=%{x}<br>avg_delay_seconds=%{y}<extra></extra>",
         "legendgroup": "R5",
         "line": {
          "color": "#FFA15A",
          "dash": "solid"
         },
         "marker": {
          "symbol": "circle"
         },
         "mode": "lines",
         "name": "R5",
         "orientation": "v",
         "showlegend": true,
         "type": "scatter",
         "x": [
          0,
          1,
          2,
          3,
          4,
          5,
          6,
          7,
          8,
          9,
          10,
          12,
          13,
          14,
          15,
          16,
          17,
          18,
          19,
          20,
          21,
          22,
          23
         ],
         "xaxis": "x",
         "y": [
          84.50788643533123,
          154.95790671217293,
          156.80410022779043,
          117.82342657342657,
          67.58724202626642,
          42.8051689860835,
          93.18548387096774,
          51.31681034482759,
          49.622009569377994,
          124.06557377049181,
          425.02777777777777,
          30.714285714285715,
          55.47959183673469,
          67.67850467289719,
          8.472819216182048,
          49.679754601226996,
          83.18417639429313,
          73.29069767441861,
          49.535508637236084,
          79.30415754923413,
          156.29936305732485,
          161.67353951890036,
          124.50645994832041
         ],
         "yaxis": "y"
        },
        {
         "hovertemplate": "route_short_name=R4<br>hour=%{x}<br>avg_delay_seconds=%{y}<extra></extra>",
         "legendgroup": "R4",
         "line": {
          "color": "#19d3f3",
          "dash": "solid"
         },
         "marker": {
          "symbol": "circle"
         },
         "mode": "lines",
         "name": "R4",
         "orientation": "v",
         "showlegend": true,
         "type": "scatter",
         "x": [
          0,
          1,
          2,
          3,
          4,
          5,
          6,
          7,
          8,
          9,
          13,
          14,
          15,
          16,
          17,
          18,
          19,
          20,
          21,
          22,
          23
         ],
         "xaxis": "x",
         "y": [
          368.14133522727275,
          524.0311077389985,
          402.2684563758389,
          150.88344370860926,
          51.78605388272583,
          5.4468802698145025,
          25.46441947565543,
          32.27744510978044,
          36.48653846153846,
          11.314159292035399,
          -42.45738636363637,
          -59.37596471885336,
          19.779741672331745,
          131.93639344262294,
          220.25716440422323,
          69.47804391217565,
          45.69041769041769,
          43.18341708542714,
          43.35894357743097,
          98.38949671772428,
          187.8650159744409
         ],
         "yaxis": "y"
        }
       ],
       "layout": {
        "legend": {
         "title": {
          "text": "route_short_name"
         },
         "tracegroupgap": 0
        },
        "margin": {
         "t": 60
        },
        "template": {
         "data": {
          "bar": [
           {
            "error_x": {
             "color": "#2a3f5f"
            },
            "error_y": {
             "color": "#2a3f5f"
            },
            "marker": {
             "line": {
              "color": "#E5ECF6",
              "width": 0.5
             },
             "pattern": {
              "fillmode": "overlay",
              "size": 10,
              "solidity": 0.2
             }
            },
            "type": "bar"
           }
          ],
          "barpolar": [
           {
            "marker": {
             "line": {
              "color": "#E5ECF6",
              "width": 0.5
             },
             "pattern": {
              "fillmode": "overlay",
              "size": 10,
              "solidity": 0.2
             }
            },
            "type": "barpolar"
           }
          ],
          "carpet": [
           {
            "aaxis": {
             "endlinecolor": "#2a3f5f",
             "gridcolor": "white",
             "linecolor": "white",
             "minorgridcolor": "white",
             "startlinecolor": "#2a3f5f"
            },
            "baxis": {
             "endlinecolor": "#2a3f5f",
             "gridcolor": "white",
             "linecolor": "white",
             "minorgridcolor": "white",
             "startlinecolor": "#2a3f5f"
            },
            "type": "carpet"
           }
          ],
          "choropleth": [
           {
            "colorbar": {
             "outlinewidth": 0,
             "ticks": ""
            },
            "type": "choropleth"
           }
          ],
          "contour": [
           {
            "colorbar": {
             "outlinewidth": 0,
             "ticks": ""
            },
            "colorscale": [
             [
              0,
              "#0d0887"
             ],
             [
              0.1111111111111111,
              "#46039f"
             ],
             [
              0.2222222222222222,
              "#7201a8"
             ],
             [
              0.3333333333333333,
              "#9c179e"
             ],
             [
              0.4444444444444444,
              "#bd3786"
             ],
             [
              0.5555555555555556,
              "#d8576b"
             ],
             [
              0.6666666666666666,
              "#ed7953"
             ],
             [
              0.7777777777777778,
              "#fb9f3a"
             ],
             [
              0.8888888888888888,
              "#fdca26"
             ],
             [
              1,
              "#f0f921"
             ]
            ],
            "type": "contour"
           }
          ],
          "contourcarpet": [
           {
            "colorbar": {
             "outlinewidth": 0,
             "ticks": ""
            },
            "type": "contourcarpet"
           }
          ],
          "heatmap": [
           {
            "colorbar": {
             "outlinewidth": 0,
             "ticks": ""
            },
            "colorscale": [
             [
              0,
              "#0d0887"
             ],
             [
              0.1111111111111111,
              "#46039f"
             ],
             [
              0.2222222222222222,
              "#7201a8"
             ],
             [
              0.3333333333333333,
              "#9c179e"
             ],
             [
              0.4444444444444444,
              "#bd3786"
             ],
             [
              0.5555555555555556,
              "#d8576b"
             ],
             [
              0.6666666666666666,
              "#ed7953"
             ],
             [
              0.7777777777777778,
              "#fb9f3a"
             ],
             [
              0.8888888888888888,
              "#fdca26"
             ],
             [
              1,
              "#f0f921"
             ]
            ],
            "type": "heatmap"
           }
          ],
          "heatmapgl": [
           {
            "colorbar": {
             "outlinewidth": 0,
             "ticks": ""
            },
            "colorscale": [
             [
              0,
              "#0d0887"
             ],
             [
              0.1111111111111111,
              "#46039f"
             ],
             [
              0.2222222222222222,
              "#7201a8"
             ],
             [
              0.3333333333333333,
              "#9c179e"
             ],
             [
              0.4444444444444444,
              "#bd3786"
             ],
             [
              0.5555555555555556,
              "#d8576b"
             ],
             [
              0.6666666666666666,
              "#ed7953"
             ],
             [
              0.7777777777777778,
              "#fb9f3a"
             ],
             [
              0.8888888888888888,
              "#fdca26"
             ],
             [
              1,
              "#f0f921"
             ]
            ],
            "type": "heatmapgl"
           }
          ],
          "histogram": [
           {
            "marker": {
             "pattern": {
              "fillmode": "overlay",
              "size": 10,
              "solidity": 0.2
             }
            },
            "type": "histogram"
           }
          ],
          "histogram2d": [
           {
            "colorbar": {
             "outlinewidth": 0,
             "ticks": ""
            },
            "colorscale": [
             [
              0,
              "#0d0887"
             ],
             [
              0.1111111111111111,
              "#46039f"
             ],
             [
              0.2222222222222222,
              "#7201a8"
             ],
             [
              0.3333333333333333,
              "#9c179e"
             ],
             [
              0.4444444444444444,
              "#bd3786"
             ],
             [
              0.5555555555555556,
              "#d8576b"
             ],
             [
              0.6666666666666666,
              "#ed7953"
             ],
             [
              0.7777777777777778,
              "#fb9f3a"
             ],
             [
              0.8888888888888888,
              "#fdca26"
             ],
             [
              1,
              "#f0f921"
             ]
            ],
            "type": "histogram2d"
           }
          ],
          "histogram2dcontour": [
           {
            "colorbar": {
             "outlinewidth": 0,
             "ticks": ""
            },
            "colorscale": [
             [
              0,
              "#0d0887"
             ],
             [
              0.1111111111111111,
              "#46039f"
             ],
             [
              0.2222222222222222,
              "#7201a8"
             ],
             [
              0.3333333333333333,
              "#9c179e"
             ],
             [
              0.4444444444444444,
              "#bd3786"
             ],
             [
              0.5555555555555556,
              "#d8576b"
             ],
             [
              0.6666666666666666,
              "#ed7953"
             ],
             [
              0.7777777777777778,
              "#fb9f3a"
             ],
             [
              0.8888888888888888,
              "#fdca26"
             ],
             [
              1,
              "#f0f921"
             ]
            ],
            "type": "histogram2dcontour"
           }
          ],
          "mesh3d": [
           {
            "colorbar": {
             "outlinewidth": 0,
             "ticks": ""
            },
            "type": "mesh3d"
           }
          ],
          "parcoords": [
           {
            "line": {
             "colorbar": {
              "outlinewidth": 0,
              "ticks": ""
             }
            },
            "type": "parcoords"
           }
          ],
          "pie": [
           {
            "automargin": true,
            "type": "pie"
           }
          ],
          "scatter": [
           {
            "fillpattern": {
             "fillmode": "overlay",
             "size": 10,
             "solidity": 0.2
            },
            "type": "scatter"
           }
          ],
          "scatter3d": [
           {
            "line": {
             "colorbar": {
              "outlinewidth": 0,
              "ticks": ""
             }
            },
            "marker": {
             "colorbar": {
              "outlinewidth": 0,
              "ticks": ""
             }
            },
            "type": "scatter3d"
           }
          ],
          "scattercarpet": [
           {
            "marker": {
             "colorbar": {
              "outlinewidth": 0,
              "ticks": ""
             }
            },
            "type": "scattercarpet"
           }
          ],
          "scattergeo": [
           {
            "marker": {
             "colorbar": {
              "outlinewidth": 0,
              "ticks": ""
             }
            },
            "type": "scattergeo"
           }
          ],
          "scattergl": [
           {
            "marker": {
             "colorbar": {
              "outlinewidth": 0,
              "ticks": ""
             }
            },
            "type": "scattergl"
           }
          ],
          "scattermapbox": [
           {
            "marker": {
             "colorbar": {
              "outlinewidth": 0,
              "ticks": ""
             }
            },
            "type": "scattermapbox"
           }
          ],
          "scatterpolar": [
           {
            "marker": {
             "colorbar": {
              "outlinewidth": 0,
              "ticks": ""
             }
            },
            "type": "scatterpolar"
           }
          ],
          "scatterpolargl": [
           {
            "marker": {
             "colorbar": {
              "outlinewidth": 0,
              "ticks": ""
             }
            },
            "type": "scatterpolargl"
           }
          ],
          "scatterternary": [
           {
            "marker": {
             "colorbar": {
              "outlinewidth": 0,
              "ticks": ""
             }
            },
            "type": "scatterternary"
           }
          ],
          "surface": [
           {
            "colorbar": {
             "outlinewidth": 0,
             "ticks": ""
            },
            "colorscale": [
             [
              0,
              "#0d0887"
             ],
             [
              0.1111111111111111,
              "#46039f"
             ],
             [
              0.2222222222222222,
              "#7201a8"
             ],
             [
              0.3333333333333333,
              "#9c179e"
             ],
             [
              0.4444444444444444,
              "#bd3786"
             ],
             [
              0.5555555555555556,
              "#d8576b"
             ],
             [
              0.6666666666666666,
              "#ed7953"
             ],
             [
              0.7777777777777778,
              "#fb9f3a"
             ],
             [
              0.8888888888888888,
              "#fdca26"
             ],
             [
              1,
              "#f0f921"
             ]
            ],
            "type": "surface"
           }
          ],
          "table": [
           {
            "cells": {
             "fill": {
              "color": "#EBF0F8"
             },
             "line": {
              "color": "white"
             }
            },
            "header": {
             "fill": {
              "color": "#C8D4E3"
             },
             "line": {
              "color": "white"
             }
            },
            "type": "table"
           }
          ]
         },
         "layout": {
          "annotationdefaults": {
           "arrowcolor": "#2a3f5f",
           "arrowhead": 0,
           "arrowwidth": 1
          },
          "autotypenumbers": "strict",
          "coloraxis": {
           "colorbar": {
            "outlinewidth": 0,
            "ticks": ""
           }
          },
          "colorscale": {
           "diverging": [
            [
             0,
             "#8e0152"
            ],
            [
             0.1,
             "#c51b7d"
            ],
            [
             0.2,
             "#de77ae"
            ],
            [
             0.3,
             "#f1b6da"
            ],
            [
             0.4,
             "#fde0ef"
            ],
            [
             0.5,
             "#f7f7f7"
            ],
            [
             0.6,
             "#e6f5d0"
            ],
            [
             0.7,
             "#b8e186"
            ],
            [
             0.8,
             "#7fbc41"
            ],
            [
             0.9,
             "#4d9221"
            ],
            [
             1,
             "#276419"
            ]
           ],
           "sequential": [
            [
             0,
             "#0d0887"
            ],
            [
             0.1111111111111111,
             "#46039f"
            ],
            [
             0.2222222222222222,
             "#7201a8"
            ],
            [
             0.3333333333333333,
             "#9c179e"
            ],
            [
             0.4444444444444444,
             "#bd3786"
            ],
            [
             0.5555555555555556,
             "#d8576b"
            ],
            [
             0.6666666666666666,
             "#ed7953"
            ],
            [
             0.7777777777777778,
             "#fb9f3a"
            ],
            [
             0.8888888888888888,
             "#fdca26"
            ],
            [
             1,
             "#f0f921"
            ]
           ],
           "sequentialminus": [
            [
             0,
             "#0d0887"
            ],
            [
             0.1111111111111111,
             "#46039f"
            ],
            [
             0.2222222222222222,
             "#7201a8"
            ],
            [
             0.3333333333333333,
             "#9c179e"
            ],
            [
             0.4444444444444444,
             "#bd3786"
            ],
            [
             0.5555555555555556,
             "#d8576b"
            ],
            [
             0.6666666666666666,
             "#ed7953"
            ],
            [
             0.7777777777777778,
             "#fb9f3a"
            ],
            [
             0.8888888888888888,
             "#fdca26"
            ],
            [
             1,
             "#f0f921"
            ]
           ]
          },
          "colorway": [
           "#636efa",
           "#EF553B",
           "#00cc96",
           "#ab63fa",
           "#FFA15A",
           "#19d3f3",
           "#FF6692",
           "#B6E880",
           "#FF97FF",
           "#FECB52"
          ],
          "font": {
           "color": "#2a3f5f"
          },
          "geo": {
           "bgcolor": "white",
           "lakecolor": "white",
           "landcolor": "#E5ECF6",
           "showlakes": true,
           "showland": true,
           "subunitcolor": "white"
          },
          "hoverlabel": {
           "align": "left"
          },
          "hovermode": "closest",
          "mapbox": {
           "style": "light"
          },
          "paper_bgcolor": "white",
          "plot_bgcolor": "#E5ECF6",
          "polar": {
           "angularaxis": {
            "gridcolor": "white",
            "linecolor": "white",
            "ticks": ""
           },
           "bgcolor": "#E5ECF6",
           "radialaxis": {
            "gridcolor": "white",
            "linecolor": "white",
            "ticks": ""
           }
          },
          "scene": {
           "xaxis": {
            "backgroundcolor": "#E5ECF6",
            "gridcolor": "white",
            "gridwidth": 2,
            "linecolor": "white",
            "showbackground": true,
            "ticks": "",
            "zerolinecolor": "white"
           },
           "yaxis": {
            "backgroundcolor": "#E5ECF6",
            "gridcolor": "white",
            "gridwidth": 2,
            "linecolor": "white",
            "showbackground": true,
            "ticks": "",
            "zerolinecolor": "white"
           },
           "zaxis": {
            "backgroundcolor": "#E5ECF6",
            "gridcolor": "white",
            "gridwidth": 2,
            "linecolor": "white",
            "showbackground": true,
            "ticks": "",
            "zerolinecolor": "white"
           }
          },
          "shapedefaults": {
           "line": {
            "color": "#2a3f5f"
           }
          },
          "ternary": {
           "aaxis": {
            "gridcolor": "white",
            "linecolor": "white",
            "ticks": ""
           },
           "baxis": {
            "gridcolor": "white",
            "linecolor": "white",
            "ticks": ""
           },
           "bgcolor": "#E5ECF6",
           "caxis": {
            "gridcolor": "white",
            "linecolor": "white",
            "ticks": ""
           }
          },
          "title": {
           "x": 0.05
          },
          "xaxis": {
           "automargin": true,
           "gridcolor": "white",
           "linecolor": "white",
           "ticks": "",
           "title": {
            "standoff": 15
           },
           "zerolinecolor": "white",
           "zerolinewidth": 2
          },
          "yaxis": {
           "automargin": true,
           "gridcolor": "white",
           "linecolor": "white",
           "ticks": "",
           "title": {
            "standoff": 15
           },
           "zerolinecolor": "white",
           "zerolinewidth": 2
          }
         }
        },
        "xaxis": {
         "anchor": "y",
         "domain": [
          0,
          1
         ],
         "title": {
          "text": "hour"
         }
        },
        "yaxis": {
         "anchor": "x",
         "domain": [
          0,
          1
         ],
         "title": {
          "text": "avg_delay_seconds"
         }
        }
       }
      }
     },
     "metadata": {},
     "output_type": "display_data"
    }
   ],
   "source": [
    "%pip install dash\n",
    "from dash import Dash, dcc, html, Input, Output\n",
    "import plotly.express as px\n",
    "\n",
    "app = Dash(__name__)                                                    ##incomplete. fix or remove from statement\n",
    "\n",
    "\n",
    "app.layout = html.Div([\n",
    "    html.H4('Average delay by hour of day for all bus lines'),\n",
    "    dcc.Graph(id=\"graph\"),\n",
    "    dcc.Checklist(\n",
    "        id=\"checklist\",\n",
    "        options=[\"Asia\", \"Europe\", \"Africa\",\"Americas\",\"Oceania\"],\n",
    "        value=[\"Americas\", \"Oceania\"],\n",
    "        inline=True\n",
    "    ),\n",
    "])\n",
    "# remove up to here if not fixing\n",
    "results = db.sql(\"\"\"SELECT  route_short_name,\n",
    "                            hour(next_stop_arrival_time):: int as hour,\n",
    "                            avg(EXTRACT(EPOCH FROM next_stop_arrival_delay)) as avg_delay_seconds\n",
    "                    FROM routes \n",
    "                    LEFT JOIN rt_trip \n",
    "                    ON routes.route_id = rt_trip.route_id\n",
    "                    WHERE starts_with(route_short_name,'R')\n",
    "                    GROUP BY route_short_name, hour\n",
    "                    ORDER BY hour, avg_delay_seconds\"\"\").df()\n",
    "\n",
    "fig = px.line(results, x=\"hour\", y=\"avg_delay_seconds\", color='route_short_name')\n",
    "fig.show()\n",
    "\n"
   ]
  },
  {
   "cell_type": "code",
   "execution_count": 60,
   "metadata": {},
   "outputs": [
    {
     "name": "stdout",
     "output_type": "stream",
     "text": [
      "┌──────────┬───────────┬──────────────────┬─────────────────┬────────────┬────────────┬───────────┬─────────────┬──────────────────┬──────────┬────────────┬───────────────────────┬──────────┬──────────────┬────────────────────┬─────────────────────────┬────────────────────────┬───────────────────────────┬──────────────────────────┬──────────────┬─────────────────────────────────┬────────────┬───────────────┐\n",
      "│ route_id │ agency_id │ route_short_name │ route_long_name │ route_desc │ route_type │ route_url │ route_color │ route_text_color │ trip_id  │ start_date │ schedule_relationship │ route_id │ direction_id │ next_stop_sequence │ next_stop_arrival_delay │ next_stop_arrival_time │ next_stop_departure_delay │ next_stop_departure_time │ next_stop_id │ next_stop_schedule_relationship │ vehicle_id │ vehicle_label │\n",
      "│ varchar  │  varchar  │     varchar      │     varchar     │  varchar   │  varchar   │  varchar  │   varchar   │     varchar      │ varchar  │    date    │         int32         │ varchar  │   varchar    │      varchar       │        interval         │       timestamp        │         interval          │        timestamp         │   varchar    │             varchar             │  varchar   │    varchar    │\n",
      "├──────────┼───────────┼──────────────────┼─────────────────┼────────────┼────────────┼───────────┼─────────────┼──────────────────┼──────────┼────────────┼───────────────────────┼──────────┼──────────────┼────────────────────┼─────────────────────────┼────────────────────────┼───────────────────────────┼──────────────────────────┼──────────────┼─────────────────────────────────┼────────────┼───────────────┤\n",
      "│ 37810    │ TL        │ R4               │ 41st Ave        │ NULL       │ 3          │ NULL      │ 008522      │ FFFFFF           │ 14057307 │ 2024-12-02 │                     0 │ 37810    │ 1            │ 16                 │ -01:29:40               │ 2024-12-02 14:17:12    │ -01:29:40                 │ 2024-12-02 14:17:12      │ 12653        │ 0                               │ 18047      │ 18047         │\n",
      "│ 37810    │ TL        │ R4               │ 41st Ave        │ NULL       │ 3          │ NULL      │ 008522      │ FFFFFF           │ 14057307 │ 2024-12-02 │                     0 │ 37810    │ 1            │ 15                 │ -01:29:35               │ 2024-12-02 14:15:17    │ -01:29:35                 │ 2024-12-02 14:15:17      │ 10960        │ 0                               │ 18047      │ 18047         │\n",
      "│ 37810    │ TL        │ R4               │ 41st Ave        │ NULL       │ 3          │ NULL      │ 008522      │ FFFFFF           │ 14057307 │ 2024-12-02 │                     0 │ 37810    │ 1            │ 14                 │ -01:23:55               │ 2024-12-02 14:10:07    │ -01:23:55                 │ 2024-12-02 14:10:07      │ 1907         │ 0                               │ 18047      │ 18047         │\n",
      "│ 37810    │ TL        │ R4               │ 41st Ave        │ NULL       │ 3          │ NULL      │ 008522      │ FFFFFF           │ 14057307 │ 2024-12-02 │                     0 │ 37810    │ 1            │ 13                 │ -01:23:39               │ 2024-12-02 14:08:41    │ -01:23:39                 │ 2024-12-02 14:08:41      │ 297          │ 0                               │ 18047      │ 18047         │\n",
      "│ 37810    │ TL        │ R4               │ 41st Ave        │ NULL       │ 3          │ NULL      │ 008522      │ FFFFFF           │ 14057307 │ 2024-12-02 │                     0 │ 37810    │ 1            │ 12                 │ -01:22:51               │ 2024-12-02 14:06:49    │ -01:22:51                 │ 2024-12-02 14:06:49      │ 12632        │ 0                               │ 18047      │ 18047         │\n",
      "│ 37810    │ TL        │ R4               │ 41st Ave        │ NULL       │ 3          │ NULL      │ 008522      │ FFFFFF           │ 14057307 │ 2024-12-02 │                     0 │ 37810    │ 1            │ 11                 │ -01:22:47               │ 2024-12-02 14:04:53    │ -01:22:47                 │ 2024-12-02 14:04:53      │ 287          │ 0                               │ 18047      │ 18047         │\n",
      "│ 37810    │ TL        │ R4               │ 41st Ave        │ NULL       │ 3          │ NULL      │ 008522      │ FFFFFF           │ 14057307 │ 2024-12-02 │                     0 │ 37810    │ 1            │ 9                  │ -01:21:20               │ 2024-12-02 14:02:23    │ -01:21:20                 │ 2024-12-02 14:02:23      │ 11354        │ 0                               │ 18047      │ 18047         │\n",
      "│ 37810    │ TL        │ R4               │ 41st Ave        │ NULL       │ 3          │ NULL      │ 008522      │ FFFFFF           │ 14057307 │ 2024-12-02 │                     0 │ 37810    │ 1            │ 8                  │ -01:19:37               │ 2024-12-02 14:00:56    │ -01:19:37                 │ 2024-12-02 14:00:56      │ 11622        │ 0                               │ 18047      │ 18047         │\n",
      "│ 37810    │ TL        │ R4               │ 41st Ave        │ NULL       │ 3          │ NULL      │ 008522      │ FFFFFF           │ 14057307 │ 2024-12-02 │                     0 │ 37810    │ 1            │ 7                  │ -01:19:22               │ 2024-12-02 13:59:14    │ -01:19:22                 │ 2024-12-02 13:59:14      │ 718          │ 0                               │ 18047      │ 18047         │\n",
      "│ 37810    │ TL        │ R4               │ 41st Ave        │ NULL       │ 3          │ NULL      │ 008522      │ FFFFFF           │ 14057307 │ 2024-12-02 │                     0 │ 37810    │ 1            │ 6                  │ -01:17:41               │ 2024-12-02 13:58:15    │ -01:17:41                 │ 2024-12-02 13:58:15      │ 713          │ 0                               │ 18047      │ 18047         │\n",
      "│   ·      │ ·         │ ·                │    ·            │  ·         │ ·          │  ·        │   ·         │   ·              │    ·     │     ·      │                     · │   ·      │ ·            │ ·                  │     ·                   │          ·             │     ·                     │          ·               │  ·           │ ·                               │   ·        │   ·           │\n",
      "│   ·      │ ·         │ ·                │    ·            │  ·         │ ·          │  ·        │   ·         │   ·              │    ·     │     ·      │                     · │   ·      │ ·            │ ·                  │     ·                   │          ·             │     ·                     │          ·               │  ·           │ ·                               │   ·        │   ·           │\n",
      "│   ·      │ ·         │ ·                │    ·            │  ·         │ ·          │  ·        │   ·         │   ·              │    ·     │     ·      │                     · │   ·      │ ·            │ ·                  │     ·                   │          ·             │     ·                     │          ·               │  ·           │ ·                               │   ·        │   ·           │\n",
      "│ 46604    │ TL        │ R6               │ Scott Rd        │ NULL       │ 3          │ NULL      │ 008522      │ FFFFFF           │ 14058741 │ 2024-12-03 │                     0 │ 46604    │ 1            │ 8                  │ -00:01:29               │ 2024-12-04 08:35:21    │ -00:01:29                 │ 2024-12-04 08:35:21      │ 5261         │ 0                               │ 18033      │ 18033         │\n",
      "│ 37807    │ TL        │ R5               │ Hastings St     │ NULL       │ 3          │ NULL      │ 008522      │ FFFFFF           │ 14058411 │ 2024-12-01 │                     0 │ 37807    │ 1            │ 8                  │ -00:01:29               │ 2024-12-01 23:59:17    │ -00:01:29                 │ 2024-12-01 23:59:17      │ 1479         │ 0                               │ 19045      │ 19045         │\n",
      "│ 46604    │ TL        │ R6               │ Scott Rd        │ NULL       │ 3          │ NULL      │ 008522      │ FFFFFF           │ 14058667 │ 2024-12-02 │                     0 │ 46604    │ 1            │ 3                  │ -00:01:29               │ 2024-12-02 20:26:52    │ -00:01:29                 │ 2024-12-02 20:26:52      │ 12794        │ 0                               │ 19004      │ 19004         │\n",
      "│ 46604    │ TL        │ R6               │ Scott Rd        │ NULL       │ 3          │ NULL      │ 008522      │ FFFFFF           │ 14058669 │ 2024-12-02 │                     0 │ 46604    │ 1            │ 2                  │ -00:01:29               │ 2024-12-02 20:42:47    │ -00:01:29                 │ 2024-12-02 20:42:47      │ 10896        │ 0                               │ 19016      │ 19016         │\n",
      "│ 38311    │ TL        │ R2               │ Marine Dr       │ NULL       │ 3          │ NULL      │ 008522      │ FFFFFF           │ 14056194 │ 2024-12-02 │                     0 │ 38311    │ 1            │ 8                  │ -00:01:29               │ 2024-12-02 22:36:37    │ -00:01:29                 │ 2024-12-02 22:36:37      │ 12683        │ 0                               │ 19021      │ 19021         │\n",
      "│ 37810    │ TL        │ R4               │ 41st Ave        │ NULL       │ 3          │ NULL      │ 008522      │ FFFFFF           │ 14057370 │ 2024-12-02 │                     0 │ 37810    │ 1            │ 9                  │ -00:01:29               │ 2024-12-02 22:59:08    │ -00:01:29                 │ 2024-12-02 22:59:08      │ 11354        │ 0                               │ 18015      │ 18015         │\n",
      "│ 46604    │ TL        │ R6               │ Scott Rd        │ NULL       │ 3          │ NULL      │ 008522      │ FFFFFF           │ 14058687 │ 2024-12-02 │                     0 │ 46604    │ 1            │ 10                 │ -00:01:29               │ 2024-12-03 00:02:09    │ -00:01:29                 │ 2024-12-03 00:02:09      │ 5555         │ 0                               │ 18009      │ 18009         │\n",
      "│ 37810    │ TL        │ R4               │ 41st Ave        │ NULL       │ 3          │ NULL      │ 008522      │ FFFFFF           │ 14057454 │ 2024-12-02 │                     0 │ 37810    │ 1            │ 15                 │ -00:01:29               │ 2024-12-03 00:27:03    │ -00:01:29                 │ 2024-12-03 00:27:03      │ 10960        │ 0                               │ 19023      │ 19023         │\n",
      "│ 37810    │ TL        │ R4               │ 41st Ave        │ NULL       │ 3          │ NULL      │ 008522      │ FFFFFF           │ 14057188 │ 2024-12-02 │                     0 │ 37810    │ 0            │ 16                 │ -00:01:29               │ 2024-12-03 00:32:20    │ -00:01:29                 │ 2024-12-03 00:32:20      │ 1648         │ 0                               │ 19024      │ 19024         │\n",
      "│ 37807    │ TL        │ R5               │ Hastings St     │ NULL       │ 3          │ NULL      │ 008522      │ FFFFFF           │ 14058065 │ 2024-12-04 │                     0 │ 37807    │ 1            │ 9                  │ -00:01:29               │ 2024-12-05 00:16:31    │ -00:01:29                 │ 2024-12-05 00:16:31      │ 2742         │ 0                               │ 19022      │ 19022         │\n",
      "├──────────┴───────────┴──────────────────┴─────────────────┴────────────┴────────────┴───────────┴─────────────┴──────────────────┴──────────┴────────────┴───────────────────────┴──────────┴──────────────┴────────────────────┴─────────────────────────┴────────────────────────┴───────────────────────────┴──────────────────────────┴──────────────┴─────────────────────────────────┴────────────┴───────────────┤\n",
      "│ ? rows (>9999 rows, 20 shown)                                                                                                                                                                                                                                                                                                                                                                                23 columns │\n",
      "└─────────────────────────────────────────────────────────────────────────────────────────────────────────────────────────────────────────────────────────────────────────────────────────────────────────────────────────────────────────────────────────────────────────────────────────────────────────────────────────────────────────────────────────────────────────────────────────────────────────────────────────┘\n",
      "\n"
     ]
    }
   ],
   "source": [
    "db.sql(\"\"\"SELECT *\n",
    "                    FROM routes \n",
    "                    LEFT JOIN rt_trip \n",
    "                    ON routes.route_id = rt_trip.route_id\n",
    "                    WHERE starts_with(route_short_name,'R')\n",
    "                    ORDER BY next_stop_arrival_delay\"\"\").show()"
   ]
  },
  {
   "cell_type": "code",
   "execution_count": 69,
   "metadata": {},
   "outputs": [
    {
     "name": "stdout",
     "output_type": "stream",
     "text": [
      "      route_short_name next_stop_arrival_time  avg_delay_seconds  year\n",
      "20741               R6             1970-01-01                0.0  1970\n",
      "20973               R4             1970-01-01                0.0  1970\n",
      "20974               R4             1970-01-01                0.0  1970\n",
      "20975               R4             1970-01-01                0.0  1970\n",
      "20976               R4             1970-01-01                0.0  1970\n",
      "...                ...                    ...                ...   ...\n",
      "25595               R4             1970-01-01                0.0  1970\n",
      "25629               R4             1970-01-01                0.0  1970\n",
      "25686               R1             1970-01-01                0.0  1970\n",
      "25702               R1             1970-01-01                0.0  1970\n",
      "25703               R4             1970-01-01                0.0  1970\n",
      "\n",
      "[435 rows x 4 columns]\n"
     ]
    }
   ],
   "source": [
    "results = db.sql(\"\"\"SELECT      route_short_name,\n",
    "                                next_stop_arrival_time,\n",
    "                                EXTRACT(EPOCH FROM next_stop_arrival_delay) as avg_delay_seconds,\n",
    "                                year(next_stop_arrival_time) as year\n",
    "                    FROM routes \n",
    "                    LEFT JOIN rt_trip \n",
    "                    ON routes.route_id = rt_trip.route_id\n",
    "                    WHERE starts_with(route_short_name,'R')\n",
    "                    ORDER BY next_stop_arrival_delay\"\"\").df()\n",
    "print(results[results['year'] != 2024])"
   ]
  },
  {
   "cell_type": "code",
   "execution_count": 20,
   "metadata": {},
   "outputs": [
    {
     "ename": "ParserException",
     "evalue": "Parser Error: syntax error at or near \"count\"",
     "output_type": "error",
     "traceback": [
      "\u001b[0;31m---------------------------------------------------------------------------\u001b[0m",
      "\u001b[0;31mParserException\u001b[0m                           Traceback (most recent call last)",
      "Cell \u001b[0;32mIn[20], line 1\u001b[0m\n\u001b[0;32m----> 1\u001b[0m \u001b[43mdb\u001b[49m\u001b[38;5;241;43m.\u001b[39;49m\u001b[43msql\u001b[49m\u001b[43m(\u001b[49m\u001b[38;5;124;43m\"\"\"\u001b[39;49m\u001b[38;5;124;43mSELECT vehicle_id,\u001b[39;49m\n\u001b[1;32m      2\u001b[0m \u001b[38;5;124;43m                trip_id\u001b[39;49m\n\u001b[1;32m      3\u001b[0m \u001b[38;5;124;43m        FROM rt_trip\u001b[39;49m\n\u001b[1;32m      4\u001b[0m \u001b[38;5;124;43m        GROUP BY vehicle_id\u001b[39;49m\n\u001b[1;32m      5\u001b[0m \u001b[38;5;124;43m        count(unique(trip))\u001b[39;49m\u001b[38;5;124;43m\"\"\"\u001b[39;49m\u001b[43m)\u001b[49m\u001b[38;5;241m.\u001b[39mshow()\n",
      "\u001b[0;31mParserException\u001b[0m: Parser Error: syntax error at or near \"count\""
     ]
    }
   ],
   "source": [
    "db.sql(\"\"\"SELECT vehicle_id,\n",
    "                trip_id\n",
    "        FROM rt_trip\n",
    "        GROUP BY vehicle_id\n",
    "        count(unique(trip))\"\"\").show()"
   ]
  },
  {
   "cell_type": "code",
   "execution_count": 5,
   "metadata": {},
   "outputs": [
    {
     "name": "stdout",
     "output_type": "stream",
     "text": [
      "    route_short_name  hour  avg_delay_seconds\n",
      "0                 R2    12       -1160.500000\n",
      "1                 R2    13        -102.362205\n",
      "2                 R2     5        -101.823741\n",
      "3                 R3     8         -98.000000\n",
      "4                 R3    18         -72.555556\n",
      "..               ...   ...                ...\n",
      "126               R2     1         255.557522\n",
      "127               R4     0         368.141335\n",
      "128               R4     2         402.268456\n",
      "129               R5    10         425.027778\n",
      "130               R4     1         524.031108\n",
      "\n",
      "[131 rows x 3 columns]\n"
     ]
    },
    {
     "ename": "NameError",
     "evalue": "name 'plt' is not defined",
     "output_type": "error",
     "traceback": [
      "\u001b[0;31m---------------------------------------------------------------------------\u001b[0m",
      "\u001b[0;31mNameError\u001b[0m                                 Traceback (most recent call last)",
      "Cell \u001b[0;32mIn[5], line 12\u001b[0m\n\u001b[1;32m      1\u001b[0m results \u001b[38;5;241m=\u001b[39m db\u001b[38;5;241m.\u001b[39msql(\u001b[38;5;124m\"\"\"\u001b[39m\u001b[38;5;124mSELECT  route_short_name,\u001b[39m\n\u001b[1;32m      2\u001b[0m \u001b[38;5;124m                            hour(next_stop_arrival_time) as hour,\u001b[39m\n\u001b[1;32m      3\u001b[0m \u001b[38;5;124m                            avg(EXTRACT(EPOCH FROM next_stop_arrival_delay)) as avg_delay_seconds\u001b[39m\n\u001b[0;32m   (...)\u001b[0m\n\u001b[1;32m      8\u001b[0m \u001b[38;5;124m                    GROUP BY route_short_name, hour\u001b[39m\n\u001b[1;32m      9\u001b[0m \u001b[38;5;124m                    ORDER BY avg_delay_seconds, hour\u001b[39m\u001b[38;5;124m\"\"\"\u001b[39m)\u001b[38;5;241m.\u001b[39mdf()\n\u001b[1;32m     10\u001b[0m \u001b[38;5;28mprint\u001b[39m (results)\n\u001b[0;32m---> 12\u001b[0m \u001b[43mplt\u001b[49m\u001b[38;5;241m.\u001b[39mfigure(figsize\u001b[38;5;241m=\u001b[39m(\u001b[38;5;241m12\u001b[39m, \u001b[38;5;241m6\u001b[39m))\n\u001b[1;32m     13\u001b[0m sns\u001b[38;5;241m.\u001b[39mlineplot(\n\u001b[1;32m     14\u001b[0m     data\u001b[38;5;241m=\u001b[39mresults,\n\u001b[1;32m     15\u001b[0m     x\u001b[38;5;241m=\u001b[39m\u001b[38;5;124m\"\u001b[39m\u001b[38;5;124mhour\u001b[39m\u001b[38;5;124m\"\u001b[39m, y\u001b[38;5;241m=\u001b[39m\u001b[38;5;124m\"\u001b[39m\u001b[38;5;124mavg_delay_seconds\u001b[39m\u001b[38;5;124m\"\u001b[39m,\n\u001b[1;32m     16\u001b[0m     hue\u001b[38;5;241m=\u001b[39m\u001b[38;5;124m\"\u001b[39m\u001b[38;5;124mroute_short_name\u001b[39m\u001b[38;5;124m\"\u001b[39m, \n\u001b[1;32m     17\u001b[0m )\n\u001b[1;32m     18\u001b[0m plt\u001b[38;5;241m.\u001b[39mxticks(\u001b[38;5;28mrange\u001b[39m(\u001b[38;5;241m0\u001b[39m, \u001b[38;5;241m24\u001b[39m, \u001b[38;5;241m3\u001b[39m))\n",
      "\u001b[0;31mNameError\u001b[0m: name 'plt' is not defined"
     ]
    }
   ],
   "source": [
    "results = db.sql(\"\"\"SELECT  route_short_name,\n",
    "                            hour(next_stop_arrival_time) as hour,\n",
    "                            avg(EXTRACT(EPOCH FROM next_stop_arrival_delay)) as avg_delay_seconds\n",
    "                    FROM routes \n",
    "                    LEFT JOIN rt_trip \n",
    "                    ON routes.route_id = rt_trip.route_id\n",
    "                    WHERE starts_with(route_short_name,'R')\n",
    "                    GROUP BY route_short_name, hour\n",
    "                    ORDER BY avg_delay_seconds, hour\"\"\").df()\n",
    "print (results)\n",
    "\n",
    "plt.figure(figsize=(12, 6))\n",
    "sns.lineplot(\n",
    "    data=results,\n",
    "    x=\"hour\", y=\"avg_delay_seconds\",\n",
    "    hue=\"route_short_name\", \n",
    ")\n",
    "plt.xticks(range(0, 24, 3))\n",
    "\n",
    "plt.show()\n",
    "\n"
   ]
  },
  {
   "cell_type": "code",
   "execution_count": 22,
   "metadata": {},
   "outputs": [
    {
     "ename": "BinderException",
     "evalue": "Binder Error: Referenced column \"trip_short_name\" not found in FROM clause!\nCandidate bindings: \"stop_times.trip_id\", \"stop_times.arrival_time\", \"stop_times.timepoint\", \"stop_times.shape_dist_traveled\", \"stop_times.stop_id\"",
     "output_type": "error",
     "traceback": [
      "\u001b[0;31m---------------------------------------------------------------------------\u001b[0m",
      "\u001b[0;31mBinderException\u001b[0m                           Traceback (most recent call last)",
      "Cell \u001b[0;32mIn[22], line 1\u001b[0m\n\u001b[0;32m----> 1\u001b[0m \u001b[43mdb\u001b[49m\u001b[38;5;241;43m.\u001b[39;49m\u001b[43msql\u001b[49m\u001b[43m(\u001b[49m\u001b[38;5;124;43m\"\"\"\u001b[39;49m\u001b[38;5;124;43mSELECT\u001b[39;49m\n\u001b[1;32m      2\u001b[0m \u001b[38;5;124;43m        stop_sequence::int as stop_sequence,\u001b[39;49m\n\u001b[1;32m      3\u001b[0m \u001b[38;5;124;43m        trip_short_name,\u001b[39;49m\n\u001b[1;32m      4\u001b[0m \u001b[38;5;124;43m        ifnull(shape_dist_traveled, 0) as shape_dist_traveled,\u001b[39;49m\n\u001b[1;32m      5\u001b[0m \u001b[38;5;124;43m        COALESCE(\u001b[39;49m\n\u001b[1;32m      6\u001b[0m \u001b[38;5;124;43m            shape_dist_traveled - LAG(shape_dist_traveled) OVER (\u001b[39;49m\n\u001b[1;32m      7\u001b[0m \u001b[38;5;124;43m                PARTITION BY trip_id \u001b[39;49m\n\u001b[1;32m      8\u001b[0m \u001b[38;5;124;43m                ORDER BY stop_sequence::int\u001b[39;49m\n\u001b[1;32m      9\u001b[0m \u001b[38;5;124;43m            )\u001b[39;49m\n\u001b[1;32m     10\u001b[0m \u001b[38;5;124;43m        ) as distance_from_prev_stop,\u001b[39;49m\n\u001b[1;32m     11\u001b[0m \u001b[38;5;124;43m        stop_id,\u001b[39;49m\n\u001b[1;32m     12\u001b[0m \u001b[38;5;124;43m        trip_id\u001b[39;49m\n\u001b[1;32m     13\u001b[0m \u001b[38;5;124;43m    FROM stop_times\u001b[39;49m\n\u001b[1;32m     14\u001b[0m \u001b[38;5;124;43m    WHERE trip_short_name != NULL\u001b[39;49m\n\u001b[1;32m     15\u001b[0m \u001b[38;5;124;43m    ORDER BY distance_from_prev_stop DESC NULLS LAST\u001b[39;49m\n\u001b[1;32m     16\u001b[0m \u001b[38;5;124;43m    \u001b[39;49m\u001b[38;5;124;43m\"\"\"\u001b[39;49m\u001b[43m)\u001b[49m\n",
      "\u001b[0;31mBinderException\u001b[0m: Binder Error: Referenced column \"trip_short_name\" not found in FROM clause!\nCandidate bindings: \"stop_times.trip_id\", \"stop_times.arrival_time\", \"stop_times.timepoint\", \"stop_times.shape_dist_traveled\", \"stop_times.stop_id\""
     ]
    }
   ],
   "source": [
    "db.sql(\"\"\"SELECT\n",
    "        stop_sequence::int as stop_sequence,\n",
    "        trip_short_name,\n",
    "        ifnull(shape_dist_traveled, 0) as shape_dist_traveled,\n",
    "        COALESCE(\n",
    "            shape_dist_traveled - LAG(shape_dist_traveled) OVER (\n",
    "                PARTITION BY trip_id \n",
    "                ORDER BY stop_sequence::int\n",
    "            )\n",
    "        ) as distance_from_prev_stop,\n",
    "        stop_id,\n",
    "        trip_id\n",
    "    FROM stop_times\n",
    "    WHERE trip_short_name != NULL\n",
    "    ORDER BY distance_from_prev_stop DESC NULLS LAST\n",
    "    \"\"\")"
   ]
  },
  {
   "cell_type": "code",
   "execution_count": 180,
   "metadata": {},
   "outputs": [
    {
     "name": "stdout",
     "output_type": "stream",
     "text": [
      "┌──────────┬──────────────┬────────────────┬─────────┬───────────────┬───────────────┬─────────────┬───────────────┬─────────────────────┬───────────┐\n",
      "│ trip_id  │ arrival_time │ departure_time │ stop_id │ stop_sequence │ stop_headsign │ pickup_type │ drop_off_type │ shape_dist_traveled │ timepoint │\n",
      "│ varchar  │   varchar    │    varchar     │ varchar │    varchar    │    varchar    │   varchar   │    varchar    │       double        │  varchar  │\n",
      "├──────────┼──────────────┼────────────────┼─────────┼───────────────┼───────────────┼─────────────┼───────────────┼─────────────────────┼───────────┤\n",
      "│ 14054659 │ 15:50:00     │ 15:50:00       │ 8019    │ 1             │ NULL          │ 0           │ 0             │                NULL │ 1         │\n",
      "│ 14054659 │ 16:44:00     │ 16:44:00       │ 8025    │ 10            │ NULL          │ 0           │ 0             │             42.4754 │ 1         │\n",
      "│ 14054659 │ 17:05:00     │ 17:05:00       │ 8026    │ 11            │ NULL          │ 1           │ 0             │             68.2344 │ 1         │\n",
      "│ 14054659 │ 15:50:01     │ 15:50:01       │ 12138   │ 2             │ NULL          │ 0           │ 0             │              0.0228 │ 0         │\n",
      "│ 14054659 │ 16:14:00     │ 16:14:00       │ 8020    │ 3             │ NULL          │ 0           │ 0             │             22.0246 │ 1         │\n",
      "│ 14054659 │ 16:14:01     │ 16:14:01       │ 12319   │ 4             │ NULL          │ 0           │ 0             │             22.0426 │ 0         │\n",
      "│ 14054659 │ 16:19:00     │ 16:19:00       │ 8021    │ 5             │ NULL          │ 0           │ 0             │             25.5168 │ 1         │\n",
      "│ 14054659 │ 16:19:01     │ 16:19:01       │ 12321   │ 6             │ NULL          │ 0           │ 0             │             25.5282 │ 0         │\n",
      "│ 14054659 │ 16:24:00     │ 16:24:00       │ 8022    │ 7             │ NULL          │ 0           │ 0             │             27.8847 │ 1         │\n",
      "│ 14054659 │ 16:34:00     │ 16:34:00       │ 8023    │ 8             │ NULL          │ 0           │ 0             │             35.3514 │ 1         │\n",
      "│ 14054659 │ 16:38:00     │ 16:38:00       │ 8024    │ 9             │ NULL          │ 0           │ 0             │             37.2895 │ 1         │\n",
      "├──────────┴──────────────┴────────────────┴─────────┴───────────────┴───────────────┴─────────────┴───────────────┴─────────────────────┴───────────┤\n",
      "│ 11 rows                                                                                                                                 10 columns │\n",
      "└────────────────────────────────────────────────────────────────────────────────────────────────────────────────────────────────────────────────────┘\n",
      "\n"
     ]
    }
   ],
   "source": [
    "db.sql(\"\"\"SELECT * from stop_times where trip_id = '14054659'\"\"\").show()"
   ]
  },
  {
   "cell_type": "code",
   "execution_count": 208,
   "metadata": {},
   "outputs": [
    {
     "name": "stdout",
     "output_type": "stream",
     "text": [
      "┌──────────┬──────────────────┬────────────────────────────────────────────┬────────────────────────┬─────────────────────────┬───────┐\n",
      "│ route_id │ route_short_name │              route_long_name               │ next_stop_arrival_time │ next_stop_arrival_delay │ year  │\n",
      "│ varchar  │     varchar      │                  varchar                   │       timestamp        │        interval         │ int64 │\n",
      "├──────────┼──────────────────┼────────────────────────────────────────────┼────────────────────────┼─────────────────────────┼───────┤\n",
      "│ 6728     │ 410              │ Richmond-Brighouse Station/22nd St Station │ 2024-12-03 06:00:46    │ 00:00:28                │  2024 │\n",
      "│ 6728     │ 410              │ Richmond-Brighouse Station/22nd St Station │ 2024-12-03 06:00:40    │ -00:00:27               │  2024 │\n",
      "│ 11696    │ 609              │ South Delta Exchange/Ladner Exchange       │ 2024-12-03 06:00:15    │ 00:00:03                │  2024 │\n",
      "│ 6687     │ 250              │ Horseshoe Bay/Dundarave/Vancouver          │ 2024-12-03 06:00:07    │ 00:01:07                │  2024 │\n",
      "│ 6687     │ 250              │ Horseshoe Bay/Dundarave/Vancouver          │ 2024-12-03 06:00:25    │ -00:00:56               │  2024 │\n",
      "│ 6692     │ 255              │ Dundarave/Capilano University              │ 2024-12-03 06:00:13    │ 00:01:24                │  2024 │\n",
      "│ 6692     │ 255              │ Dundarave/Capilano University              │ 2024-12-03 06:00:13    │ 00:02:31                │  2024 │\n",
      "│ 6617     │ 007              │ Nanaimo Station/Dunbar                     │ 2024-12-03 06:00:03    │ 00:03:03                │  2024 │\n",
      "│ 6617     │ 007              │ Nanaimo Station/Dunbar                     │ 2024-12-03 06:00:00    │ 00:00:09                │  2024 │\n",
      "│ 6617     │ 007              │ Nanaimo Station/Dunbar                     │ 2024-12-03 06:00:24    │ 00:01:19                │  2024 │\n",
      "│  ·       │  ·               │           ·                                │          ·             │    ·                    │    ·  │\n",
      "│  ·       │  ·               │           ·                                │          ·             │    ·                    │    ·  │\n",
      "│  ·       │  ·               │           ·                                │          ·             │    ·                    │    ·  │\n",
      "│ 6678     │ 230              │ Upper Lonsdale/Lonsdale Quay               │ 2024-12-03 01:00:13    │ -00:00:50               │  2024 │\n",
      "│ 6699     │ 311              │ Scottsdale/Bridgeport Station              │ 2024-12-03 01:15:13    │ 00:00:00                │  2024 │\n",
      "│ 6700     │ 312              │ Scottsdale/Scott Road Station              │ 2024-12-03 01:00:23    │ 00:06:26                │  2024 │\n",
      "│ 6700     │ 312              │ Scottsdale/Scott Road Station              │ 2024-12-03 01:00:13    │ 00:00:21                │  2024 │\n",
      "│ 6700     │ 312              │ Scottsdale/Scott Road Station              │ 2024-12-03 01:02:00    │ -00:01:02               │  2024 │\n",
      "│ 6700     │ 312              │ Scottsdale/Scott Road Station              │ 2024-12-03 01:00:29    │ -00:04:58               │  2024 │\n",
      "│ 17707    │ 337              │ Fraser Heights/Guildford/Surrey Centre     │ 2024-12-03 01:00:03    │ 00:04:58                │  2024 │\n",
      "│ 17707    │ 337              │ Fraser Heights/Guildford/Surrey Centre     │ 2024-12-03 01:00:53    │ -00:02:45               │  2024 │\n",
      "│ 8290     │ 341              │ Guildford/Newton Exchange                  │ 2024-12-03 01:00:06    │ 00:01:46                │  2024 │\n",
      "│ 8290     │ 341              │ Guildford/Newton Exchange                  │ 2024-12-03 01:01:21    │ 00:01:27                │  2024 │\n",
      "├──────────┴──────────────────┴────────────────────────────────────────────┴────────────────────────┴─────────────────────────┴───────┤\n",
      "│ ? rows (>9999 rows, 20 shown)                                                                                             6 columns │\n",
      "└─────────────────────────────────────────────────────────────────────────────────────────────────────────────────────────────────────┘\n",
      "\n"
     ]
    }
   ],
   "source": [
    "db.sql(\"\"\"SELECT    \n",
    "            rt_trip.route_id,\n",
    "            routes.route_short_name,\n",
    "            route_long_name,\n",
    "            next_stop_arrival_time,\n",
    "            next_stop_arrival_delay,\n",
    "            year(next_stop_arrival_time) as year\n",
    "        FROM rt_trip\n",
    "        INNER JOIN routes\n",
    "        ON routes.route_id = rt_trip.route_id\n",
    "     \"\"\").show()\n"
   ]
  },
  {
   "cell_type": "code",
   "execution_count": 23,
   "metadata": {},
   "outputs": [
    {
     "name": "stdout",
     "output_type": "stream",
     "text": [
      "┌──────────┬──────────────┬──────────────┬───────────────────┬─────────────────────┐\n",
      "│ shape_id │ shape_pt_lat │ shape_pt_lon │ shape_pt_sequence │ shape_dist_traveled │\n",
      "│ varchar  │    double    │    double    │       int32       │       double        │\n",
      "├──────────┼──────────────┼──────────────┼───────────────────┼─────────────────────┤\n",
      "│ 292022   │    49.257645 │   -123.17228 │                 1 │                 0.0 │\n",
      "│ 292022   │    49.262254 │  -123.168244 │                10 │              0.8022 │\n",
      "│ 292022   │     49.26234 │  -123.168239 │                11 │              0.8118 │\n",
      "│ 292022   │    49.263215 │   -123.16822 │                12 │              0.9091 │\n",
      "│ 292022   │     49.26408 │   -123.16816 │                13 │              1.0054 │\n",
      "│ 292022   │    49.264979 │  -123.168405 │                14 │               1.107 │\n",
      "│ 292022   │    49.265801 │  -123.168393 │                15 │              1.1984 │\n",
      "│ 292022   │    49.266636 │  -123.168359 │                16 │              1.2913 │\n",
      "│ 292022   │    49.267464 │  -123.168325 │                17 │              1.3834 │\n",
      "│ 292022   │    49.268381 │   -123.16828 │                18 │              1.4855 │\n",
      "│   ·      │        ·     │        ·     │                 · │                 ·   │\n",
      "│   ·      │        ·     │        ·     │                 · │                 ·   │\n",
      "│   ·      │        ·     │        ·     │                 · │                 ·   │\n",
      "│ 292111   │    49.241887 │  -123.139313 │                95 │              6.2591 │\n",
      "│ 292111   │    49.242187 │  -123.139257 │                96 │              6.2927 │\n",
      "│ 292111   │    49.242822 │  -123.139235 │                97 │              6.3633 │\n",
      "│ 292111   │     49.24368 │  -123.139206 │                98 │              6.4588 │\n",
      "│ 292111   │    49.245274 │  -123.139173 │                99 │              6.6361 │\n",
      "│ 292113   │    49.203239 │  -123.134782 │                 1 │                 0.0 │\n",
      "│ 292113   │    49.205325 │  -123.140395 │                10 │              0.4737 │\n",
      "│ 292113   │    49.269558 │  -123.137524 │               100 │              7.6375 │\n",
      "│ 292113   │    49.269896 │  -123.137105 │               101 │              7.6859 │\n",
      "│ 292113   │    49.269895 │  -123.137104 │               102 │               7.686 │\n",
      "├──────────┴──────────────┴──────────────┴───────────────────┴─────────────────────┤\n",
      "│ ? rows (>9999 rows, 20 shown)                                          5 columns │\n",
      "└──────────────────────────────────────────────────────────────────────────────────┘\n",
      "\n"
     ]
    }
   ],
   "source": [
    "db.sql(\"\"\"SELECT * FROM shapes \"\"\").show()"
   ]
  },
  {
   "cell_type": "code",
   "execution_count": 6,
   "metadata": {},
   "outputs": [
    {
     "data": {
      "application/vnd.plotly.v1+json": {
       "config": {
        "plotlyServerURL": "https://plot.ly"
       },
       "data": [
        {
         "hovertemplate": "route_long_name=Canada Line<br>stop_sequence=%{x}<br>speed=%{y}<extra></extra>",
         "legendgroup": "Canada Line",
         "line": {
          "color": "#636efa",
          "dash": "solid"
         },
         "marker": {
          "symbol": "circle"
         },
         "mode": "lines",
         "name": "Canada Line",
         "orientation": "v",
         "showlegend": true,
         "type": "scatter",
         "x": [
          2,
          3,
          4,
          5,
          6,
          7,
          8,
          9,
          10,
          11,
          12,
          13
         ],
         "xaxis": "x",
         "y": [
          45.042,
          31.155,
          31.107999999999997,
          36.604000000000006,
          53.603999999999985,
          24.296999999999997,
          36.846,
          30.802000000000014,
          23.316000000000017,
          29.453999999999994,
          35.56799999999998,
          13.242000000000047
         ],
         "yaxis": "y"
        },
        {
         "hovertemplate": "route_long_name=SeaBus<br>stop_sequence=%{x}<br>speed=%{y}<extra></extra>",
         "legendgroup": "SeaBus",
         "line": {
          "color": "#EF553B",
          "dash": "solid"
         },
         "marker": {
          "symbol": "circle"
         },
         "mode": "lines",
         "name": "SeaBus",
         "orientation": "v",
         "showlegend": true,
         "type": "scatter",
         "x": [
          2
         ],
         "xaxis": "x",
         "y": [
          15.846
         ],
         "yaxis": "y"
        },
        {
         "hovertemplate": "route_long_name=Expo Line<br>stop_sequence=%{x}<br>speed=%{y}<extra></extra>",
         "legendgroup": "Expo Line",
         "line": {
          "color": "#00cc96",
          "dash": "solid"
         },
         "marker": {
          "symbol": "circle"
         },
         "mode": "lines",
         "name": "Expo Line",
         "orientation": "v",
         "showlegend": true,
         "type": "scatter",
         "x": [
          2,
          3,
          4,
          5,
          6,
          7,
          8,
          9,
          10,
          11,
          12,
          13,
          14,
          15,
          16,
          17,
          18,
          19,
          20
         ],
         "xaxis": "x",
         "y": [
          40.187999999999995,
          11.667000000000002,
          39.096,
          31.509000000000007,
          54.39999999999999,
          40.26,
          50.77800000000002,
          37.113,
          51.096000000000025,
          23.723999999999972,
          78.15000000000002,
          49.64200000000002,
          39.97599999999995,
          58.58000000000004,
          36.251999999999924,
          49.772000000000034,
          46.687999999999974,
          32.697,
          50.12999999999998
         ],
         "yaxis": "y"
        },
        {
         "hovertemplate": "route_long_name=Millennium Line<br>stop_sequence=%{x}<br>speed=%{y}<extra></extra>",
         "legendgroup": "Millennium Line",
         "line": {
          "color": "#ab63fa",
          "dash": "solid"
         },
         "marker": {
          "symbol": "circle"
         },
         "mode": "lines",
         "name": "Millennium Line",
         "orientation": "v",
         "showlegend": true,
         "type": "scatter",
         "x": [
          2,
          3,
          4,
          5,
          6,
          7,
          8,
          9,
          10,
          11,
          12,
          13,
          14,
          15,
          16,
          17
         ],
         "xaxis": "x",
         "y": [
          25.368000000000002,
          55.923,
          56.868,
          32.334,
          55.062,
          44.357999999999976,
          44.67900000000003,
          38.46999999999998,
          46.79400000000003,
          33.57599999999998,
          39.436000000000035,
          64.42949999999996,
          38.85000000000005,
          41.525999999999996,
          26.53799999999997,
          36.666000000000025
         ],
         "yaxis": "y"
        }
       ],
       "layout": {
        "legend": {
         "title": {
          "text": "route_long_name"
         },
         "tracegroupgap": 0
        },
        "margin": {
         "t": 60
        },
        "template": {
         "data": {
          "bar": [
           {
            "error_x": {
             "color": "#2a3f5f"
            },
            "error_y": {
             "color": "#2a3f5f"
            },
            "marker": {
             "line": {
              "color": "#E5ECF6",
              "width": 0.5
             },
             "pattern": {
              "fillmode": "overlay",
              "size": 10,
              "solidity": 0.2
             }
            },
            "type": "bar"
           }
          ],
          "barpolar": [
           {
            "marker": {
             "line": {
              "color": "#E5ECF6",
              "width": 0.5
             },
             "pattern": {
              "fillmode": "overlay",
              "size": 10,
              "solidity": 0.2
             }
            },
            "type": "barpolar"
           }
          ],
          "carpet": [
           {
            "aaxis": {
             "endlinecolor": "#2a3f5f",
             "gridcolor": "white",
             "linecolor": "white",
             "minorgridcolor": "white",
             "startlinecolor": "#2a3f5f"
            },
            "baxis": {
             "endlinecolor": "#2a3f5f",
             "gridcolor": "white",
             "linecolor": "white",
             "minorgridcolor": "white",
             "startlinecolor": "#2a3f5f"
            },
            "type": "carpet"
           }
          ],
          "choropleth": [
           {
            "colorbar": {
             "outlinewidth": 0,
             "ticks": ""
            },
            "type": "choropleth"
           }
          ],
          "contour": [
           {
            "colorbar": {
             "outlinewidth": 0,
             "ticks": ""
            },
            "colorscale": [
             [
              0,
              "#0d0887"
             ],
             [
              0.1111111111111111,
              "#46039f"
             ],
             [
              0.2222222222222222,
              "#7201a8"
             ],
             [
              0.3333333333333333,
              "#9c179e"
             ],
             [
              0.4444444444444444,
              "#bd3786"
             ],
             [
              0.5555555555555556,
              "#d8576b"
             ],
             [
              0.6666666666666666,
              "#ed7953"
             ],
             [
              0.7777777777777778,
              "#fb9f3a"
             ],
             [
              0.8888888888888888,
              "#fdca26"
             ],
             [
              1,
              "#f0f921"
             ]
            ],
            "type": "contour"
           }
          ],
          "contourcarpet": [
           {
            "colorbar": {
             "outlinewidth": 0,
             "ticks": ""
            },
            "type": "contourcarpet"
           }
          ],
          "heatmap": [
           {
            "colorbar": {
             "outlinewidth": 0,
             "ticks": ""
            },
            "colorscale": [
             [
              0,
              "#0d0887"
             ],
             [
              0.1111111111111111,
              "#46039f"
             ],
             [
              0.2222222222222222,
              "#7201a8"
             ],
             [
              0.3333333333333333,
              "#9c179e"
             ],
             [
              0.4444444444444444,
              "#bd3786"
             ],
             [
              0.5555555555555556,
              "#d8576b"
             ],
             [
              0.6666666666666666,
              "#ed7953"
             ],
             [
              0.7777777777777778,
              "#fb9f3a"
             ],
             [
              0.8888888888888888,
              "#fdca26"
             ],
             [
              1,
              "#f0f921"
             ]
            ],
            "type": "heatmap"
           }
          ],
          "heatmapgl": [
           {
            "colorbar": {
             "outlinewidth": 0,
             "ticks": ""
            },
            "colorscale": [
             [
              0,
              "#0d0887"
             ],
             [
              0.1111111111111111,
              "#46039f"
             ],
             [
              0.2222222222222222,
              "#7201a8"
             ],
             [
              0.3333333333333333,
              "#9c179e"
             ],
             [
              0.4444444444444444,
              "#bd3786"
             ],
             [
              0.5555555555555556,
              "#d8576b"
             ],
             [
              0.6666666666666666,
              "#ed7953"
             ],
             [
              0.7777777777777778,
              "#fb9f3a"
             ],
             [
              0.8888888888888888,
              "#fdca26"
             ],
             [
              1,
              "#f0f921"
             ]
            ],
            "type": "heatmapgl"
           }
          ],
          "histogram": [
           {
            "marker": {
             "pattern": {
              "fillmode": "overlay",
              "size": 10,
              "solidity": 0.2
             }
            },
            "type": "histogram"
           }
          ],
          "histogram2d": [
           {
            "colorbar": {
             "outlinewidth": 0,
             "ticks": ""
            },
            "colorscale": [
             [
              0,
              "#0d0887"
             ],
             [
              0.1111111111111111,
              "#46039f"
             ],
             [
              0.2222222222222222,
              "#7201a8"
             ],
             [
              0.3333333333333333,
              "#9c179e"
             ],
             [
              0.4444444444444444,
              "#bd3786"
             ],
             [
              0.5555555555555556,
              "#d8576b"
             ],
             [
              0.6666666666666666,
              "#ed7953"
             ],
             [
              0.7777777777777778,
              "#fb9f3a"
             ],
             [
              0.8888888888888888,
              "#fdca26"
             ],
             [
              1,
              "#f0f921"
             ]
            ],
            "type": "histogram2d"
           }
          ],
          "histogram2dcontour": [
           {
            "colorbar": {
             "outlinewidth": 0,
             "ticks": ""
            },
            "colorscale": [
             [
              0,
              "#0d0887"
             ],
             [
              0.1111111111111111,
              "#46039f"
             ],
             [
              0.2222222222222222,
              "#7201a8"
             ],
             [
              0.3333333333333333,
              "#9c179e"
             ],
             [
              0.4444444444444444,
              "#bd3786"
             ],
             [
              0.5555555555555556,
              "#d8576b"
             ],
             [
              0.6666666666666666,
              "#ed7953"
             ],
             [
              0.7777777777777778,
              "#fb9f3a"
             ],
             [
              0.8888888888888888,
              "#fdca26"
             ],
             [
              1,
              "#f0f921"
             ]
            ],
            "type": "histogram2dcontour"
           }
          ],
          "mesh3d": [
           {
            "colorbar": {
             "outlinewidth": 0,
             "ticks": ""
            },
            "type": "mesh3d"
           }
          ],
          "parcoords": [
           {
            "line": {
             "colorbar": {
              "outlinewidth": 0,
              "ticks": ""
             }
            },
            "type": "parcoords"
           }
          ],
          "pie": [
           {
            "automargin": true,
            "type": "pie"
           }
          ],
          "scatter": [
           {
            "fillpattern": {
             "fillmode": "overlay",
             "size": 10,
             "solidity": 0.2
            },
            "type": "scatter"
           }
          ],
          "scatter3d": [
           {
            "line": {
             "colorbar": {
              "outlinewidth": 0,
              "ticks": ""
             }
            },
            "marker": {
             "colorbar": {
              "outlinewidth": 0,
              "ticks": ""
             }
            },
            "type": "scatter3d"
           }
          ],
          "scattercarpet": [
           {
            "marker": {
             "colorbar": {
              "outlinewidth": 0,
              "ticks": ""
             }
            },
            "type": "scattercarpet"
           }
          ],
          "scattergeo": [
           {
            "marker": {
             "colorbar": {
              "outlinewidth": 0,
              "ticks": ""
             }
            },
            "type": "scattergeo"
           }
          ],
          "scattergl": [
           {
            "marker": {
             "colorbar": {
              "outlinewidth": 0,
              "ticks": ""
             }
            },
            "type": "scattergl"
           }
          ],
          "scattermapbox": [
           {
            "marker": {
             "colorbar": {
              "outlinewidth": 0,
              "ticks": ""
             }
            },
            "type": "scattermapbox"
           }
          ],
          "scatterpolar": [
           {
            "marker": {
             "colorbar": {
              "outlinewidth": 0,
              "ticks": ""
             }
            },
            "type": "scatterpolar"
           }
          ],
          "scatterpolargl": [
           {
            "marker": {
             "colorbar": {
              "outlinewidth": 0,
              "ticks": ""
             }
            },
            "type": "scatterpolargl"
           }
          ],
          "scatterternary": [
           {
            "marker": {
             "colorbar": {
              "outlinewidth": 0,
              "ticks": ""
             }
            },
            "type": "scatterternary"
           }
          ],
          "surface": [
           {
            "colorbar": {
             "outlinewidth": 0,
             "ticks": ""
            },
            "colorscale": [
             [
              0,
              "#0d0887"
             ],
             [
              0.1111111111111111,
              "#46039f"
             ],
             [
              0.2222222222222222,
              "#7201a8"
             ],
             [
              0.3333333333333333,
              "#9c179e"
             ],
             [
              0.4444444444444444,
              "#bd3786"
             ],
             [
              0.5555555555555556,
              "#d8576b"
             ],
             [
              0.6666666666666666,
              "#ed7953"
             ],
             [
              0.7777777777777778,
              "#fb9f3a"
             ],
             [
              0.8888888888888888,
              "#fdca26"
             ],
             [
              1,
              "#f0f921"
             ]
            ],
            "type": "surface"
           }
          ],
          "table": [
           {
            "cells": {
             "fill": {
              "color": "#EBF0F8"
             },
             "line": {
              "color": "white"
             }
            },
            "header": {
             "fill": {
              "color": "#C8D4E3"
             },
             "line": {
              "color": "white"
             }
            },
            "type": "table"
           }
          ]
         },
         "layout": {
          "annotationdefaults": {
           "arrowcolor": "#2a3f5f",
           "arrowhead": 0,
           "arrowwidth": 1
          },
          "autotypenumbers": "strict",
          "coloraxis": {
           "colorbar": {
            "outlinewidth": 0,
            "ticks": ""
           }
          },
          "colorscale": {
           "diverging": [
            [
             0,
             "#8e0152"
            ],
            [
             0.1,
             "#c51b7d"
            ],
            [
             0.2,
             "#de77ae"
            ],
            [
             0.3,
             "#f1b6da"
            ],
            [
             0.4,
             "#fde0ef"
            ],
            [
             0.5,
             "#f7f7f7"
            ],
            [
             0.6,
             "#e6f5d0"
            ],
            [
             0.7,
             "#b8e186"
            ],
            [
             0.8,
             "#7fbc41"
            ],
            [
             0.9,
             "#4d9221"
            ],
            [
             1,
             "#276419"
            ]
           ],
           "sequential": [
            [
             0,
             "#0d0887"
            ],
            [
             0.1111111111111111,
             "#46039f"
            ],
            [
             0.2222222222222222,
             "#7201a8"
            ],
            [
             0.3333333333333333,
             "#9c179e"
            ],
            [
             0.4444444444444444,
             "#bd3786"
            ],
            [
             0.5555555555555556,
             "#d8576b"
            ],
            [
             0.6666666666666666,
             "#ed7953"
            ],
            [
             0.7777777777777778,
             "#fb9f3a"
            ],
            [
             0.8888888888888888,
             "#fdca26"
            ],
            [
             1,
             "#f0f921"
            ]
           ],
           "sequentialminus": [
            [
             0,
             "#0d0887"
            ],
            [
             0.1111111111111111,
             "#46039f"
            ],
            [
             0.2222222222222222,
             "#7201a8"
            ],
            [
             0.3333333333333333,
             "#9c179e"
            ],
            [
             0.4444444444444444,
             "#bd3786"
            ],
            [
             0.5555555555555556,
             "#d8576b"
            ],
            [
             0.6666666666666666,
             "#ed7953"
            ],
            [
             0.7777777777777778,
             "#fb9f3a"
            ],
            [
             0.8888888888888888,
             "#fdca26"
            ],
            [
             1,
             "#f0f921"
            ]
           ]
          },
          "colorway": [
           "#636efa",
           "#EF553B",
           "#00cc96",
           "#ab63fa",
           "#FFA15A",
           "#19d3f3",
           "#FF6692",
           "#B6E880",
           "#FF97FF",
           "#FECB52"
          ],
          "font": {
           "color": "#2a3f5f"
          },
          "geo": {
           "bgcolor": "white",
           "lakecolor": "white",
           "landcolor": "#E5ECF6",
           "showlakes": true,
           "showland": true,
           "subunitcolor": "white"
          },
          "hoverlabel": {
           "align": "left"
          },
          "hovermode": "closest",
          "mapbox": {
           "style": "light"
          },
          "paper_bgcolor": "white",
          "plot_bgcolor": "#E5ECF6",
          "polar": {
           "angularaxis": {
            "gridcolor": "white",
            "linecolor": "white",
            "ticks": ""
           },
           "bgcolor": "#E5ECF6",
           "radialaxis": {
            "gridcolor": "white",
            "linecolor": "white",
            "ticks": ""
           }
          },
          "scene": {
           "xaxis": {
            "backgroundcolor": "#E5ECF6",
            "gridcolor": "white",
            "gridwidth": 2,
            "linecolor": "white",
            "showbackground": true,
            "ticks": "",
            "zerolinecolor": "white"
           },
           "yaxis": {
            "backgroundcolor": "#E5ECF6",
            "gridcolor": "white",
            "gridwidth": 2,
            "linecolor": "white",
            "showbackground": true,
            "ticks": "",
            "zerolinecolor": "white"
           },
           "zaxis": {
            "backgroundcolor": "#E5ECF6",
            "gridcolor": "white",
            "gridwidth": 2,
            "linecolor": "white",
            "showbackground": true,
            "ticks": "",
            "zerolinecolor": "white"
           }
          },
          "shapedefaults": {
           "line": {
            "color": "#2a3f5f"
           }
          },
          "ternary": {
           "aaxis": {
            "gridcolor": "white",
            "linecolor": "white",
            "ticks": ""
           },
           "baxis": {
            "gridcolor": "white",
            "linecolor": "white",
            "ticks": ""
           },
           "bgcolor": "#E5ECF6",
           "caxis": {
            "gridcolor": "white",
            "linecolor": "white",
            "ticks": ""
           }
          },
          "title": {
           "x": 0.05
          },
          "xaxis": {
           "automargin": true,
           "gridcolor": "white",
           "linecolor": "white",
           "ticks": "",
           "title": {
            "standoff": 15
           },
           "zerolinecolor": "white",
           "zerolinewidth": 2
          },
          "yaxis": {
           "automargin": true,
           "gridcolor": "white",
           "linecolor": "white",
           "ticks": "",
           "title": {
            "standoff": 15
           },
           "zerolinecolor": "white",
           "zerolinewidth": 2
          }
         }
        },
        "xaxis": {
         "anchor": "y",
         "domain": [
          0,
          1
         ],
         "title": {
          "text": "stop_sequence"
         }
        },
        "yaxis": {
         "anchor": "x",
         "domain": [
          0,
          1
         ],
         "title": {
          "text": "speed"
         }
        }
       }
      }
     },
     "metadata": {},
     "output_type": "display_data"
    }
   ],
   "source": [
    "import plotly.express as px\n",
    "# trip static data canada line and seabus distances and times\n",
    "output = db.sql(\"\"\"SELECT\n",
    "                route_long_name, \n",
    "                first(stop_id) as stop_id,\n",
    "                stop_sequence::int as stop_sequence,\n",
    "                COALESCE(\n",
    "                        first(ifnull(shape_dist_traveled, 0)) - LAG(first(ifnull(shape_dist_traveled, 0))) OVER (\n",
    "                                PARTITION BY route_long_name\n",
    "                                ORDER BY stop_sequence::int\n",
    "                        )) as distance_from_prev_stop,\n",
    "                COALESCE(\n",
    "                        first(arrival_time::interval) - LAG(first(arrival_time::interval)) OVER (\n",
    "                                PARTITION BY route_long_name\n",
    "                                ORDER BY stop_sequence::int\n",
    "                        )) as time_from_prev_stop,\n",
    "        FROM stop_times\n",
    "        INNER JOIN trips\n",
    "        ON trips.trip_id = stop_times.trip_id\n",
    "        INNER JOIN routes\n",
    "        ON routes.route_id = trips.route_id\n",
    "        WHERE route_short_name IS NULL\n",
    "        GROUP BY route_long_name, stop_sequence::int\n",
    "        ORDER BY first(arrival_time::interval) ASC\"\"\").df()\n",
    "\n",
    "\n",
    "output = output.dropna()\n",
    "output['speed'] = output['distance_from_prev_stop']/(output['time_from_prev_stop'].dt.total_seconds() / 3600)\n",
    "output['speed']\n",
    "fig = px.line(output, x=\"stop_sequence\", y=\"speed\", color='route_long_name')\n",
    "fig.show()\n",
    "\n"
   ]
  },
  {
   "cell_type": "code",
   "execution_count": null,
   "metadata": {},
   "outputs": [
    {
     "data": {
      "text/html": [
       "<div>\n",
       "<style scoped>\n",
       "    .dataframe tbody tr th:only-of-type {\n",
       "        vertical-align: middle;\n",
       "    }\n",
       "\n",
       "    .dataframe tbody tr th {\n",
       "        vertical-align: top;\n",
       "    }\n",
       "\n",
       "    .dataframe thead th {\n",
       "        text-align: right;\n",
       "    }\n",
       "</style>\n",
       "<table border=\"1\" class=\"dataframe\">\n",
       "  <thead>\n",
       "    <tr style=\"text-align: right;\">\n",
       "      <th></th>\n",
       "      <th>route_long_name</th>\n",
       "      <th>stop_id</th>\n",
       "      <th>stop_sequence</th>\n",
       "      <th>distance_from_prev_stop</th>\n",
       "      <th>time_from_prev_stop</th>\n",
       "    </tr>\n",
       "  </thead>\n",
       "  <tbody>\n",
       "    <tr>\n",
       "      <th>0</th>\n",
       "      <td>Canada Line</td>\n",
       "      <td>11295</td>\n",
       "      <td>1</td>\n",
       "      <td>NaN</td>\n",
       "      <td>NaT</td>\n",
       "    </tr>\n",
       "    <tr>\n",
       "      <th>1</th>\n",
       "      <td>Canada Line</td>\n",
       "      <td>11293</td>\n",
       "      <td>2</td>\n",
       "      <td>0.7507</td>\n",
       "      <td>0 days 00:01:00</td>\n",
       "    </tr>\n",
       "    <tr>\n",
       "      <th>2</th>\n",
       "      <td>Canada Line</td>\n",
       "      <td>11291</td>\n",
       "      <td>3</td>\n",
       "      <td>1.0385</td>\n",
       "      <td>0 days 00:02:00</td>\n",
       "    </tr>\n",
       "    <tr>\n",
       "      <th>3</th>\n",
       "      <td>Canada Line</td>\n",
       "      <td>11289</td>\n",
       "      <td>4</td>\n",
       "      <td>1.5554</td>\n",
       "      <td>0 days 00:03:00</td>\n",
       "    </tr>\n",
       "    <tr>\n",
       "      <th>4</th>\n",
       "      <td>Canada Line</td>\n",
       "      <td>11287</td>\n",
       "      <td>5</td>\n",
       "      <td>1.8302</td>\n",
       "      <td>0 days 00:03:00</td>\n",
       "    </tr>\n",
       "    <tr>\n",
       "      <th>5</th>\n",
       "      <td>Canada Line</td>\n",
       "      <td>11285</td>\n",
       "      <td>6</td>\n",
       "      <td>1.7868</td>\n",
       "      <td>0 days 00:02:00</td>\n",
       "    </tr>\n",
       "    <tr>\n",
       "      <th>6</th>\n",
       "      <td>Canada Line</td>\n",
       "      <td>11283</td>\n",
       "      <td>7</td>\n",
       "      <td>0.8099</td>\n",
       "      <td>0 days 00:02:00</td>\n",
       "    </tr>\n",
       "    <tr>\n",
       "      <th>7</th>\n",
       "      <td>Canada Line</td>\n",
       "      <td>11281</td>\n",
       "      <td>8</td>\n",
       "      <td>1.8423</td>\n",
       "      <td>0 days 00:03:00</td>\n",
       "    </tr>\n",
       "    <tr>\n",
       "      <th>8</th>\n",
       "      <td>Canada Line</td>\n",
       "      <td>11279</td>\n",
       "      <td>9</td>\n",
       "      <td>1.5401</td>\n",
       "      <td>0 days 00:03:00</td>\n",
       "    </tr>\n",
       "    <tr>\n",
       "      <th>9</th>\n",
       "      <td>Canada Line</td>\n",
       "      <td>11277</td>\n",
       "      <td>10</td>\n",
       "      <td>0.3886</td>\n",
       "      <td>0 days 00:01:00</td>\n",
       "    </tr>\n",
       "    <tr>\n",
       "      <th>10</th>\n",
       "      <td>Canada Line</td>\n",
       "      <td>11275</td>\n",
       "      <td>11</td>\n",
       "      <td>0.9818</td>\n",
       "      <td>0 days 00:02:00</td>\n",
       "    </tr>\n",
       "    <tr>\n",
       "      <th>11</th>\n",
       "      <td>Canada Line</td>\n",
       "      <td>11273</td>\n",
       "      <td>12</td>\n",
       "      <td>1.1856</td>\n",
       "      <td>0 days 00:02:00</td>\n",
       "    </tr>\n",
       "    <tr>\n",
       "      <th>12</th>\n",
       "      <td>Canada Line</td>\n",
       "      <td>11303</td>\n",
       "      <td>13</td>\n",
       "      <td>0.4414</td>\n",
       "      <td>0 days 00:02:00</td>\n",
       "    </tr>\n",
       "    <tr>\n",
       "      <th>13</th>\n",
       "      <td>SeaBus</td>\n",
       "      <td>8035</td>\n",
       "      <td>1</td>\n",
       "      <td>NaN</td>\n",
       "      <td>NaT</td>\n",
       "    </tr>\n",
       "    <tr>\n",
       "      <th>14</th>\n",
       "      <td>SeaBus</td>\n",
       "      <td>8036</td>\n",
       "      <td>2</td>\n",
       "      <td>3.1692</td>\n",
       "      <td>0 days 00:12:00</td>\n",
       "    </tr>\n",
       "    <tr>\n",
       "      <th>15</th>\n",
       "      <td>Expo Line</td>\n",
       "      <td>8039</td>\n",
       "      <td>1</td>\n",
       "      <td>NaN</td>\n",
       "      <td>NaT</td>\n",
       "    </tr>\n",
       "    <tr>\n",
       "      <th>16</th>\n",
       "      <td>Expo Line</td>\n",
       "      <td>8040</td>\n",
       "      <td>2</td>\n",
       "      <td>0.6698</td>\n",
       "      <td>0 days 00:01:00</td>\n",
       "    </tr>\n",
       "    <tr>\n",
       "      <th>17</th>\n",
       "      <td>Expo Line</td>\n",
       "      <td>8041</td>\n",
       "      <td>3</td>\n",
       "      <td>0.3889</td>\n",
       "      <td>0 days 00:02:00</td>\n",
       "    </tr>\n",
       "    <tr>\n",
       "      <th>18</th>\n",
       "      <td>Expo Line</td>\n",
       "      <td>8042</td>\n",
       "      <td>4</td>\n",
       "      <td>0.6516</td>\n",
       "      <td>0 days 00:01:00</td>\n",
       "    </tr>\n",
       "    <tr>\n",
       "      <th>19</th>\n",
       "      <td>Millennium Line</td>\n",
       "      <td>10374</td>\n",
       "      <td>1</td>\n",
       "      <td>NaN</td>\n",
       "      <td>NaT</td>\n",
       "    </tr>\n",
       "    <tr>\n",
       "      <th>20</th>\n",
       "      <td>Expo Line</td>\n",
       "      <td>8043</td>\n",
       "      <td>5</td>\n",
       "      <td>1.0503</td>\n",
       "      <td>0 days 00:02:00</td>\n",
       "    </tr>\n",
       "    <tr>\n",
       "      <th>21</th>\n",
       "      <td>Millennium Line</td>\n",
       "      <td>8763</td>\n",
       "      <td>2</td>\n",
       "      <td>0.8456</td>\n",
       "      <td>0 days 00:02:00</td>\n",
       "    </tr>\n",
       "    <tr>\n",
       "      <th>22</th>\n",
       "      <td>Expo Line</td>\n",
       "      <td>8044</td>\n",
       "      <td>6</td>\n",
       "      <td>2.7200</td>\n",
       "      <td>0 days 00:03:00</td>\n",
       "    </tr>\n",
       "    <tr>\n",
       "      <th>23</th>\n",
       "      <td>Millennium Line</td>\n",
       "      <td>8762</td>\n",
       "      <td>3</td>\n",
       "      <td>1.8641</td>\n",
       "      <td>0 days 00:02:00</td>\n",
       "    </tr>\n",
       "    <tr>\n",
       "      <th>24</th>\n",
       "      <td>Millennium Line</td>\n",
       "      <td>8761</td>\n",
       "      <td>4</td>\n",
       "      <td>0.9478</td>\n",
       "      <td>0 days 00:01:00</td>\n",
       "    </tr>\n",
       "    <tr>\n",
       "      <th>25</th>\n",
       "      <td>Expo Line</td>\n",
       "      <td>8045</td>\n",
       "      <td>7</td>\n",
       "      <td>2.0130</td>\n",
       "      <td>0 days 00:03:00</td>\n",
       "    </tr>\n",
       "    <tr>\n",
       "      <th>26</th>\n",
       "      <td>Expo Line</td>\n",
       "      <td>8046</td>\n",
       "      <td>8</td>\n",
       "      <td>0.8463</td>\n",
       "      <td>0 days 00:01:00</td>\n",
       "    </tr>\n",
       "    <tr>\n",
       "      <th>27</th>\n",
       "      <td>Millennium Line</td>\n",
       "      <td>8760</td>\n",
       "      <td>5</td>\n",
       "      <td>1.6167</td>\n",
       "      <td>0 days 00:03:00</td>\n",
       "    </tr>\n",
       "    <tr>\n",
       "      <th>28</th>\n",
       "      <td>Millennium Line</td>\n",
       "      <td>8759</td>\n",
       "      <td>6</td>\n",
       "      <td>0.9177</td>\n",
       "      <td>0 days 00:01:00</td>\n",
       "    </tr>\n",
       "    <tr>\n",
       "      <th>29</th>\n",
       "      <td>Expo Line</td>\n",
       "      <td>8047</td>\n",
       "      <td>9</td>\n",
       "      <td>1.2371</td>\n",
       "      <td>0 days 00:02:00</td>\n",
       "    </tr>\n",
       "    <tr>\n",
       "      <th>30</th>\n",
       "      <td>Millennium Line</td>\n",
       "      <td>8758</td>\n",
       "      <td>7</td>\n",
       "      <td>1.4786</td>\n",
       "      <td>0 days 00:02:00</td>\n",
       "    </tr>\n",
       "    <tr>\n",
       "      <th>31</th>\n",
       "      <td>Expo Line</td>\n",
       "      <td>8048</td>\n",
       "      <td>10</td>\n",
       "      <td>1.7032</td>\n",
       "      <td>0 days 00:02:00</td>\n",
       "    </tr>\n",
       "    <tr>\n",
       "      <th>32</th>\n",
       "      <td>Millennium Line</td>\n",
       "      <td>8757</td>\n",
       "      <td>8</td>\n",
       "      <td>1.4893</td>\n",
       "      <td>0 days 00:02:00</td>\n",
       "    </tr>\n",
       "    <tr>\n",
       "      <th>33</th>\n",
       "      <td>Expo Line</td>\n",
       "      <td>8049</td>\n",
       "      <td>11</td>\n",
       "      <td>0.7908</td>\n",
       "      <td>0 days 00:02:00</td>\n",
       "    </tr>\n",
       "    <tr>\n",
       "      <th>34</th>\n",
       "      <td>Expo Line</td>\n",
       "      <td>8050</td>\n",
       "      <td>12</td>\n",
       "      <td>1.3025</td>\n",
       "      <td>0 days 00:01:00</td>\n",
       "    </tr>\n",
       "    <tr>\n",
       "      <th>35</th>\n",
       "      <td>Millennium Line</td>\n",
       "      <td>9511</td>\n",
       "      <td>9</td>\n",
       "      <td>1.9235</td>\n",
       "      <td>0 days 00:03:00</td>\n",
       "    </tr>\n",
       "    <tr>\n",
       "      <th>36</th>\n",
       "      <td>Expo Line</td>\n",
       "      <td>8051</td>\n",
       "      <td>13</td>\n",
       "      <td>2.4821</td>\n",
       "      <td>0 days 00:03:00</td>\n",
       "    </tr>\n",
       "    <tr>\n",
       "      <th>37</th>\n",
       "      <td>Millennium Line</td>\n",
       "      <td>8756</td>\n",
       "      <td>10</td>\n",
       "      <td>1.5598</td>\n",
       "      <td>0 days 00:02:00</td>\n",
       "    </tr>\n",
       "    <tr>\n",
       "      <th>38</th>\n",
       "      <td>Expo Line</td>\n",
       "      <td>8052</td>\n",
       "      <td>14</td>\n",
       "      <td>1.9988</td>\n",
       "      <td>0 days 00:03:00</td>\n",
       "    </tr>\n",
       "    <tr>\n",
       "      <th>39</th>\n",
       "      <td>Millennium Line</td>\n",
       "      <td>8755</td>\n",
       "      <td>11</td>\n",
       "      <td>1.6788</td>\n",
       "      <td>0 days 00:03:00</td>\n",
       "    </tr>\n",
       "    <tr>\n",
       "      <th>40</th>\n",
       "      <td>Expo Line</td>\n",
       "      <td>8053</td>\n",
       "      <td>15</td>\n",
       "      <td>2.9290</td>\n",
       "      <td>0 days 00:03:00</td>\n",
       "    </tr>\n",
       "    <tr>\n",
       "      <th>41</th>\n",
       "      <td>Millennium Line</td>\n",
       "      <td>12229</td>\n",
       "      <td>12</td>\n",
       "      <td>1.9718</td>\n",
       "      <td>0 days 00:03:00</td>\n",
       "    </tr>\n",
       "    <tr>\n",
       "      <th>42</th>\n",
       "      <td>Expo Line</td>\n",
       "      <td>8054</td>\n",
       "      <td>16</td>\n",
       "      <td>0.6042</td>\n",
       "      <td>0 days 00:01:00</td>\n",
       "    </tr>\n",
       "    <tr>\n",
       "      <th>43</th>\n",
       "      <td>Expo Line</td>\n",
       "      <td>8055</td>\n",
       "      <td>17</td>\n",
       "      <td>2.4886</td>\n",
       "      <td>0 days 00:03:00</td>\n",
       "    </tr>\n",
       "    <tr>\n",
       "      <th>44</th>\n",
       "      <td>Millennium Line</td>\n",
       "      <td>12231</td>\n",
       "      <td>13</td>\n",
       "      <td>4.2953</td>\n",
       "      <td>0 days 00:04:00</td>\n",
       "    </tr>\n",
       "    <tr>\n",
       "      <th>45</th>\n",
       "      <td>Millennium Line</td>\n",
       "      <td>12233</td>\n",
       "      <td>14</td>\n",
       "      <td>1.2950</td>\n",
       "      <td>0 days 00:02:00</td>\n",
       "    </tr>\n",
       "    <tr>\n",
       "      <th>46</th>\n",
       "      <td>Expo Line</td>\n",
       "      <td>8056</td>\n",
       "      <td>18</td>\n",
       "      <td>2.3344</td>\n",
       "      <td>0 days 00:03:00</td>\n",
       "    </tr>\n",
       "    <tr>\n",
       "      <th>47</th>\n",
       "      <td>Expo Line</td>\n",
       "      <td>8057</td>\n",
       "      <td>19</td>\n",
       "      <td>1.0899</td>\n",
       "      <td>0 days 00:02:00</td>\n",
       "    </tr>\n",
       "    <tr>\n",
       "      <th>48</th>\n",
       "      <td>Millennium Line</td>\n",
       "      <td>12235</td>\n",
       "      <td>15</td>\n",
       "      <td>2.0763</td>\n",
       "      <td>0 days 00:03:00</td>\n",
       "    </tr>\n",
       "    <tr>\n",
       "      <th>49</th>\n",
       "      <td>Expo Line</td>\n",
       "      <td>8058</td>\n",
       "      <td>20</td>\n",
       "      <td>0.8355</td>\n",
       "      <td>0 days 00:01:00</td>\n",
       "    </tr>\n",
       "    <tr>\n",
       "      <th>50</th>\n",
       "      <td>Millennium Line</td>\n",
       "      <td>12237</td>\n",
       "      <td>16</td>\n",
       "      <td>0.8846</td>\n",
       "      <td>0 days 00:02:00</td>\n",
       "    </tr>\n",
       "    <tr>\n",
       "      <th>51</th>\n",
       "      <td>Millennium Line</td>\n",
       "      <td>12239</td>\n",
       "      <td>17</td>\n",
       "      <td>0.6111</td>\n",
       "      <td>0 days 00:01:00</td>\n",
       "    </tr>\n",
       "  </tbody>\n",
       "</table>\n",
       "</div>"
      ],
      "text/plain": [
       "    route_long_name stop_id  stop_sequence  distance_from_prev_stop  \\\n",
       "0       Canada Line   11295              1                      NaN   \n",
       "1       Canada Line   11293              2                   0.7507   \n",
       "2       Canada Line   11291              3                   1.0385   \n",
       "3       Canada Line   11289              4                   1.5554   \n",
       "4       Canada Line   11287              5                   1.8302   \n",
       "5       Canada Line   11285              6                   1.7868   \n",
       "6       Canada Line   11283              7                   0.8099   \n",
       "7       Canada Line   11281              8                   1.8423   \n",
       "8       Canada Line   11279              9                   1.5401   \n",
       "9       Canada Line   11277             10                   0.3886   \n",
       "10      Canada Line   11275             11                   0.9818   \n",
       "11      Canada Line   11273             12                   1.1856   \n",
       "12      Canada Line   11303             13                   0.4414   \n",
       "13           SeaBus    8035              1                      NaN   \n",
       "14           SeaBus    8036              2                   3.1692   \n",
       "15        Expo Line    8039              1                      NaN   \n",
       "16        Expo Line    8040              2                   0.6698   \n",
       "17        Expo Line    8041              3                   0.3889   \n",
       "18        Expo Line    8042              4                   0.6516   \n",
       "19  Millennium Line   10374              1                      NaN   \n",
       "20        Expo Line    8043              5                   1.0503   \n",
       "21  Millennium Line    8763              2                   0.8456   \n",
       "22        Expo Line    8044              6                   2.7200   \n",
       "23  Millennium Line    8762              3                   1.8641   \n",
       "24  Millennium Line    8761              4                   0.9478   \n",
       "25        Expo Line    8045              7                   2.0130   \n",
       "26        Expo Line    8046              8                   0.8463   \n",
       "27  Millennium Line    8760              5                   1.6167   \n",
       "28  Millennium Line    8759              6                   0.9177   \n",
       "29        Expo Line    8047              9                   1.2371   \n",
       "30  Millennium Line    8758              7                   1.4786   \n",
       "31        Expo Line    8048             10                   1.7032   \n",
       "32  Millennium Line    8757              8                   1.4893   \n",
       "33        Expo Line    8049             11                   0.7908   \n",
       "34        Expo Line    8050             12                   1.3025   \n",
       "35  Millennium Line    9511              9                   1.9235   \n",
       "36        Expo Line    8051             13                   2.4821   \n",
       "37  Millennium Line    8756             10                   1.5598   \n",
       "38        Expo Line    8052             14                   1.9988   \n",
       "39  Millennium Line    8755             11                   1.6788   \n",
       "40        Expo Line    8053             15                   2.9290   \n",
       "41  Millennium Line   12229             12                   1.9718   \n",
       "42        Expo Line    8054             16                   0.6042   \n",
       "43        Expo Line    8055             17                   2.4886   \n",
       "44  Millennium Line   12231             13                   4.2953   \n",
       "45  Millennium Line   12233             14                   1.2950   \n",
       "46        Expo Line    8056             18                   2.3344   \n",
       "47        Expo Line    8057             19                   1.0899   \n",
       "48  Millennium Line   12235             15                   2.0763   \n",
       "49        Expo Line    8058             20                   0.8355   \n",
       "50  Millennium Line   12237             16                   0.8846   \n",
       "51  Millennium Line   12239             17                   0.6111   \n",
       "\n",
       "   time_from_prev_stop  \n",
       "0                  NaT  \n",
       "1      0 days 00:01:00  \n",
       "2      0 days 00:02:00  \n",
       "3      0 days 00:03:00  \n",
       "4      0 days 00:03:00  \n",
       "5      0 days 00:02:00  \n",
       "6      0 days 00:02:00  \n",
       "7      0 days 00:03:00  \n",
       "8      0 days 00:03:00  \n",
       "9      0 days 00:01:00  \n",
       "10     0 days 00:02:00  \n",
       "11     0 days 00:02:00  \n",
       "12     0 days 00:02:00  \n",
       "13                 NaT  \n",
       "14     0 days 00:12:00  \n",
       "15                 NaT  \n",
       "16     0 days 00:01:00  \n",
       "17     0 days 00:02:00  \n",
       "18     0 days 00:01:00  \n",
       "19                 NaT  \n",
       "20     0 days 00:02:00  \n",
       "21     0 days 00:02:00  \n",
       "22     0 days 00:03:00  \n",
       "23     0 days 00:02:00  \n",
       "24     0 days 00:01:00  \n",
       "25     0 days 00:03:00  \n",
       "26     0 days 00:01:00  \n",
       "27     0 days 00:03:00  \n",
       "28     0 days 00:01:00  \n",
       "29     0 days 00:02:00  \n",
       "30     0 days 00:02:00  \n",
       "31     0 days 00:02:00  \n",
       "32     0 days 00:02:00  \n",
       "33     0 days 00:02:00  \n",
       "34     0 days 00:01:00  \n",
       "35     0 days 00:03:00  \n",
       "36     0 days 00:03:00  \n",
       "37     0 days 00:02:00  \n",
       "38     0 days 00:03:00  \n",
       "39     0 days 00:03:00  \n",
       "40     0 days 00:03:00  \n",
       "41     0 days 00:03:00  \n",
       "42     0 days 00:01:00  \n",
       "43     0 days 00:03:00  \n",
       "44     0 days 00:04:00  \n",
       "45     0 days 00:02:00  \n",
       "46     0 days 00:03:00  \n",
       "47     0 days 00:02:00  \n",
       "48     0 days 00:03:00  \n",
       "49     0 days 00:01:00  \n",
       "50     0 days 00:02:00  \n",
       "51     0 days 00:01:00  "
      ]
     },
     "execution_count": 71,
     "metadata": {},
     "output_type": "execute_result"
    }
   ],
   "source": [
    "db.sql(\"\"\"SELECT *\n",
    "                route_long_name, \n",
    "                first(stop_id) as stop_id,\n",
    "                stop_sequence::int as stop_sequence,\n",
    "                COALESCE(\n",
    "                        first(ifnull(shape_dist_traveled, 0)) - LAG(first(ifnull(shape_dist_traveled, 0))) OVER (\n",
    "                                PARTITION BY route_long_name\n",
    "                                ORDER BY stop_sequence::int\n",
    "                        )) as distance_from_prev_stop,\n",
    "                COALESCE(\n",
    "                        first(arrival_time::interval) - LAG(first(arrival_time::interval)) OVER (\n",
    "                                PARTITION BY route_long_name\n",
    "                                ORDER BY stop_sequence::int\n",
    "                        )) as time_from_prev_stop,\n",
    "        FROM stop_times\n",
    "        INNER JOIN trips\n",
    "        ON trips.trip_id = stop_times.trip_id\n",
    "        INNER JOIN routes\n",
    "        ON routes.route_id = trips.route_id\n",
    "        WHERE route_short_name IS NULL\n",
    "        GROUP BY route_long_name, stop_sequence::int\n",
    "        ORDER BY first(arrival_time::interval) ASC\"\"\").df()"
   ]
  },
  {
   "cell_type": "code",
   "execution_count": null,
   "metadata": {},
   "outputs": [],
   "source": [
    "%pip install -U kaleido==0.4.0rc5\n",
    "import kaleido\n",
    "import plotly.graph_objects as go\n",
    "from datetime import datetime\n",
    "# Very messy, but calculates average speed to each stop, and the lat lon midpoint between the stops.\n",
    "# This can be used to see estimated speed on a map\n",
    "hour = 8\n",
    "average_speeds_query = \"\"\"SELECT        \n",
    "                trips.trip_id,\n",
    "                stops.stop_id,\n",
    "                stop_sequence,\n",
    "                arrival_time::interval as arrival_time,\n",
    "                ifnull(route_short_name,route_long_name) as route_name,\n",
    "\n",
    "                COALESCE(\n",
    "                        ifnull(shape_dist_traveled, 0) - LAG(ifnull(shape_dist_traveled, 0)) OVER (\n",
    "                                PARTITION BY trips.trip_id\n",
    "                                ORDER BY stop_sequence::int\n",
    "                )) / (epoch(COALESCE(\n",
    "                        arrival_time::interval - LAG(arrival_time::interval) OVER (\n",
    "                                PARTITION BY trips.trip_id\n",
    "                                ORDER BY stop_sequence::int\n",
    "                        )))/3600) as avg_speed,\n",
    "                COALESCE(\n",
    "                        stop_lat + LAG(stop_lat) OVER (\n",
    "                                PARTITION BY route_long_name\n",
    "                                ORDER BY stop_sequence::int\n",
    "                        ))/2 as midpoint_latitude,\n",
    "                COALESCE(\n",
    "                        stop_lon + LAG(stop_lon) OVER (\n",
    "                                PARTITION BY route_long_name\n",
    "                                ORDER BY stop_sequence::int\n",
    "                        ))/2 as midpoint_longitude\n",
    "        FROM stop_times\n",
    "        INNER JOIN trips\n",
    "        ON trips.trip_id = stop_times.trip_id\n",
    "        INNER JOIN routes\n",
    "        ON routes.route_id = trips.route_id\n",
    "        INNER JOIN stops\n",
    "        ON stops.stop_id = stop_times.stop_id\n",
    "        ORDER BY avg_speed Desc\"\"\"\n",
    "\n",
    "average_speeds = db.execute(average_speeds_query).df().dropna()\n",
    "average_speeds = average_speeds[average_speeds['avg_speed'] > 1]\n",
    "average_speeds = average_speeds[average_speeds['avg_speed'] <= 150]\n",
    "print(average_speeds)\n",
    "\n",
    "fig = go.Figure()\n",
    "fig = px.scatter_map(average_speeds,\n",
    "                        lat=\"midpoint_latitude\",\n",
    "                        lon=\"midpoint_longitude\", \n",
    "                        color=\"avg_speed\",\n",
    "                        center=dict(lat=49.25, lon=-123), \n",
    "                        zoom=8.5, \n",
    "                        height=500)\n",
    "\n",
    "fig.update_layout(map_style=\"open-street-map\",\n",
    "    margin={\"r\":0,\"t\":0,\"l\":0,\"b\":0})\n",
    "\n",
    "#fig.show()"
   ]
  },
  {
   "cell_type": "code",
   "execution_count": 50,
   "metadata": {},
   "outputs": [
    {
     "data": {
      "text/html": [
       "<div>\n",
       "<style scoped>\n",
       "    .dataframe tbody tr th:only-of-type {\n",
       "        vertical-align: middle;\n",
       "    }\n",
       "\n",
       "    .dataframe tbody tr th {\n",
       "        vertical-align: top;\n",
       "    }\n",
       "\n",
       "    .dataframe thead th {\n",
       "        text-align: right;\n",
       "    }\n",
       "</style>\n",
       "<table border=\"1\" class=\"dataframe\">\n",
       "  <thead>\n",
       "    <tr style=\"text-align: right;\">\n",
       "      <th></th>\n",
       "      <th>trip_id</th>\n",
       "      <th>stop_id</th>\n",
       "      <th>stop_sequence</th>\n",
       "      <th>route_name</th>\n",
       "      <th>avg_speed</th>\n",
       "      <th>midpoint_latitude</th>\n",
       "      <th>midpoint_longitude</th>\n",
       "    </tr>\n",
       "  </thead>\n",
       "  <tbody>\n",
       "    <tr>\n",
       "      <th>0</th>\n",
       "      <td>14055391</td>\n",
       "      <td>12842</td>\n",
       "      <td>49</td>\n",
       "      <td>N8</td>\n",
       "      <td>0.000000</td>\n",
       "      <td>49.210898</td>\n",
       "      <td>-123.098986</td>\n",
       "    </tr>\n",
       "    <tr>\n",
       "      <th>1</th>\n",
       "      <td>14055244</td>\n",
       "      <td>2236</td>\n",
       "      <td>61</td>\n",
       "      <td>N20</td>\n",
       "      <td>0.000000</td>\n",
       "      <td>49.212212</td>\n",
       "      <td>-123.110409</td>\n",
       "    </tr>\n",
       "    <tr>\n",
       "      <th>2</th>\n",
       "      <td>14055325</td>\n",
       "      <td>3129</td>\n",
       "      <td>48</td>\n",
       "      <td>N35</td>\n",
       "      <td>0.000000</td>\n",
       "      <td>49.278484</td>\n",
       "      <td>-122.912790</td>\n",
       "    </tr>\n",
       "    <tr>\n",
       "      <th>3</th>\n",
       "      <td>14055244</td>\n",
       "      <td>2235</td>\n",
       "      <td>60</td>\n",
       "      <td>N20</td>\n",
       "      <td>0.000000</td>\n",
       "      <td>49.212459</td>\n",
       "      <td>-123.107012</td>\n",
       "    </tr>\n",
       "    <tr>\n",
       "      <th>4</th>\n",
       "      <td>14055391</td>\n",
       "      <td>12971</td>\n",
       "      <td>48</td>\n",
       "      <td>N8</td>\n",
       "      <td>0.000000</td>\n",
       "      <td>49.211145</td>\n",
       "      <td>-123.093650</td>\n",
       "    </tr>\n",
       "    <tr>\n",
       "      <th>...</th>\n",
       "      <td>...</td>\n",
       "      <td>...</td>\n",
       "      <td>...</td>\n",
       "      <td>...</td>\n",
       "      <td>...</td>\n",
       "      <td>...</td>\n",
       "      <td>...</td>\n",
       "    </tr>\n",
       "    <tr>\n",
       "      <th>1116</th>\n",
       "      <td>14055327</td>\n",
       "      <td>9104</td>\n",
       "      <td>33</td>\n",
       "      <td>N35</td>\n",
       "      <td>-6.644653</td>\n",
       "      <td>49.281098</td>\n",
       "      <td>-123.033688</td>\n",
       "    </tr>\n",
       "    <tr>\n",
       "      <th>1117</th>\n",
       "      <td>14055412</td>\n",
       "      <td>3130</td>\n",
       "      <td>47</td>\n",
       "      <td>N9</td>\n",
       "      <td>-16.253254</td>\n",
       "      <td>49.252952</td>\n",
       "      <td>-122.914885</td>\n",
       "    </tr>\n",
       "    <tr>\n",
       "      <th>1118</th>\n",
       "      <td>14055243</td>\n",
       "      <td>1244</td>\n",
       "      <td>17</td>\n",
       "      <td>N20</td>\n",
       "      <td>-0.000000</td>\n",
       "      <td>49.280806</td>\n",
       "      <td>-123.070549</td>\n",
       "    </tr>\n",
       "    <tr>\n",
       "      <th>1119</th>\n",
       "      <td>14055236</td>\n",
       "      <td>511</td>\n",
       "      <td>50</td>\n",
       "      <td>N20</td>\n",
       "      <td>-2.316493</td>\n",
       "      <td>49.245665</td>\n",
       "      <td>-123.081214</td>\n",
       "    </tr>\n",
       "    <tr>\n",
       "      <th>1120</th>\n",
       "      <td>14055094</td>\n",
       "      <td>1016</td>\n",
       "      <td>41</td>\n",
       "      <td>N10</td>\n",
       "      <td>-0.000000</td>\n",
       "      <td>49.281477</td>\n",
       "      <td>-123.117549</td>\n",
       "    </tr>\n",
       "  </tbody>\n",
       "</table>\n",
       "<p>1111 rows × 7 columns</p>\n",
       "</div>"
      ],
      "text/plain": [
       "       trip_id stop_id stop_sequence route_name  avg_speed  midpoint_latitude  \\\n",
       "0     14055391   12842            49         N8   0.000000          49.210898   \n",
       "1     14055244    2236            61        N20   0.000000          49.212212   \n",
       "2     14055325    3129            48        N35   0.000000          49.278484   \n",
       "3     14055244    2235            60        N20   0.000000          49.212459   \n",
       "4     14055391   12971            48         N8   0.000000          49.211145   \n",
       "...        ...     ...           ...        ...        ...                ...   \n",
       "1116  14055327    9104            33        N35  -6.644653          49.281098   \n",
       "1117  14055412    3130            47         N9 -16.253254          49.252952   \n",
       "1118  14055243    1244            17        N20  -0.000000          49.280806   \n",
       "1119  14055236     511            50        N20  -2.316493          49.245665   \n",
       "1120  14055094    1016            41        N10  -0.000000          49.281477   \n",
       "\n",
       "      midpoint_longitude  \n",
       "0            -123.098986  \n",
       "1            -123.110409  \n",
       "2            -122.912790  \n",
       "3            -123.107012  \n",
       "4            -123.093650  \n",
       "...                  ...  \n",
       "1116         -123.033688  \n",
       "1117         -122.914885  \n",
       "1118         -123.070549  \n",
       "1119         -123.081214  \n",
       "1120         -123.117549  \n",
       "\n",
       "[1111 rows x 7 columns]"
      ]
     },
     "execution_count": 50,
     "metadata": {},
     "output_type": "execute_result"
    }
   ],
   "source": [
    "hour = 29\n",
    "average_speeds_query = \"\"\"SELECT        \n",
    "                trips.trip_id,\n",
    "                stops.stop_id,\n",
    "                stop_sequence,\n",
    "                ifnull(route_short_name,route_long_name) as route_name,\n",
    "                COALESCE(\n",
    "                        ifnull(shape_dist_traveled, 0) - LAG(ifnull(shape_dist_traveled, 0)) OVER (\n",
    "                                PARTITION BY route_long_name\n",
    "                                ORDER BY stop_sequence::int\n",
    "                        )) / (epoch(COALESCE(\n",
    "                        arrival_time::interval - LAG(arrival_time::interval) OVER (\n",
    "                                PARTITION BY route_long_name\n",
    "                                ORDER BY stop_sequence::int\n",
    "                        )))/3600) as avg_speed,\n",
    "                COALESCE(\n",
    "                        stop_lat + LAG(stop_lat) OVER (\n",
    "                                PARTITION BY route_long_name\n",
    "                                ORDER BY stop_sequence::int\n",
    "                        ))/2 as midpoint_latitude,\n",
    "                COALESCE(\n",
    "                        stop_lon + LAG(stop_lon) OVER (\n",
    "                                PARTITION BY route_long_name\n",
    "                                ORDER BY stop_sequence::int\n",
    "                        ))/2 as midpoint_longitude\n",
    "        FROM stop_times\n",
    "        INNER JOIN trips\n",
    "        ON trips.trip_id = stop_times.trip_id\n",
    "        INNER JOIN routes\n",
    "        ON routes.route_id = trips.route_id\n",
    "        INNER JOIN stops\n",
    "        ON stops.stop_id = stop_times.stop_id\n",
    "        WHERE floor(epoch(arrival_time::interval)/3600) = ?\n",
    "        ORDER BY arrival_time::interval Desc\"\"\"\n",
    "db.execute(average_speeds_query,[hour]).df().dropna()\n",
    "\n"
   ]
  },
  {
   "cell_type": "markdown",
   "metadata": {},
   "source": [
    "| agency                     │\n",
    "│ calendar                   │\n",
    "│ calendar_dates             │\n",
    "│ direction_names_exceptions │\n",
    "│ directions                 │\n",
    "│ feed_info                  │\n",
    "│ route_names_exceptions     │\n",
    "│ routes                     │\n",
    "│ rt_alerts                  │\n",
    "│ rt_position                │\n",
    "│ rt_trip                    │\n",
    "│ shapes                     │\n",
    "│ signup_periods             │\n",
    "│ stop_order_exceptions      │\n",
    "│ stop_times                 │\n",
    "│ stops                      │\n",
    "│ transfers                  │\n",
    "│ trips     "
   ]
  }
 ],
 "metadata": {
  "kernelspec": {
   "display_name": ".venv",
   "language": "python",
   "name": "python3"
  },
  "language_info": {
   "codemirror_mode": {
    "name": "ipython",
    "version": 3
   },
   "file_extension": ".py",
   "mimetype": "text/x-python",
   "name": "python",
   "nbconvert_exporter": "python",
   "pygments_lexer": "ipython3",
   "version": "3.12.7"
  }
 },
 "nbformat": 4,
 "nbformat_minor": 2
}
